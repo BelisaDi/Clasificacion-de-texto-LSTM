{
  "cells": [
    {
      "cell_type": "markdown",
      "metadata": {
        "id": "nXLzPe5VaNhm"
      },
      "source": [
        "<div style=\"text-align: right\"><b> Ana Valentina López Chacón & Isabella Martínez Martínez & Sara Julieth Zuleta Quevedo. </b></div>"
      ],
      "id": "nXLzPe5VaNhm"
    },
    {
      "cell_type": "markdown",
      "metadata": {
        "id": "017037f5-05b7-4e53-b46e-55c49de92d22"
      },
      "source": [
        "# **Proyecto 2: De clasificación a NER**"
      ],
      "id": "017037f5-05b7-4e53-b46e-55c49de92d22"
    },
    {
      "cell_type": "markdown",
      "metadata": {
        "id": "902946ae-afe0-4e47-8ff9-edfade62239d"
      },
      "source": [
        "En este proyecto utilizarán [este dataset](https://archive.ics.uci.edu/ml/datasets/Paper+Reviews) que consiste en evaluaciones de diferentes revisores sobre papers (405). Cada evaluación ha sido etiquetada con 5 clases (muy negativo, negativo, 0, neutral, positivo y muy positivo). Este proyecto consiste en realizar una clasificación de este dataset y además identificar que parte de los comentarios hacen referencia a las clases. "
      ],
      "id": "902946ae-afe0-4e47-8ff9-edfade62239d"
    },
    {
      "cell_type": "markdown",
      "metadata": {
        "id": "3dc45e3c-0145-4ac5-a14d-a9d0dd8c49e6"
      },
      "source": [
        "## **Parte 1. Clasificación sencilla de cada revisión**"
      ],
      "id": "3dc45e3c-0145-4ac5-a14d-a9d0dd8c49e6"
    },
    {
      "cell_type": "markdown",
      "metadata": {
        "id": "2268c2a4-5889-4ebf-a752-ddb9f24fa9a4"
      },
      "source": [
        "En esta parte tendrá que hacer un modelo de clasificación usando redes recurrentes (LSTM, GRU), para los cinco tipos de categorías.  Recuerde algunos pasos para realizar la clasificación:\n",
        "\n",
        "1. Lectura de los datos (división en training/validation sets)\n",
        "2. Preprocesamiento del texto (no es necesario ser tanto preprocesamiento como en word2vec, pero si eliminar algunos caracteres o incluso revisar si hay comentarios vacíos). \n",
        "3. Creación del vocabulario y transformación de palabras a índices (y viceversa)\n",
        "4. Creación del \"dataset\" y \"dataloader\" involucrando los pasos 2 y 3.\n",
        "5. Creación del modelo, involucrando embeddings.\n",
        "6. Entrenar y validar (escoger optimizador Adam o AdamW, función de costo apropiada, loops de entrenamiento y validación).\n",
        "7. Modelo listo para producción (modelo para predecir entrando un comentario)\n",
        "8. Pequeña interfaz para predicción usando Gradio."
      ],
      "id": "2268c2a4-5889-4ebf-a752-ddb9f24fa9a4"
    },
    {
      "cell_type": "markdown",
      "metadata": {
        "id": "e3097b89-f3d3-48a1-b904-f8301f475245"
      },
      "source": [
        "Realice diferentes configuraciones, tamaño del embedding, arquitecturas LSTM o GRU, varias capas, bidireccionalidad, etc. Escoja el mejor modelo. "
      ],
      "id": "e3097b89-f3d3-48a1-b904-f8301f475245"
    },
    {
      "cell_type": "markdown",
      "metadata": {
        "id": "f7ea25ab-f328-4327-9129-2497268e4ed7"
      },
      "source": [
        "## **Parte 2. Convirtiendo el texto a un problema de clasificación por palabras o frases (NER)**"
      ],
      "id": "f7ea25ab-f328-4327-9129-2497268e4ed7"
    },
    {
      "cell_type": "markdown",
      "metadata": {
        "id": "65bd6679-8dde-4547-b59a-587dd39b794d"
      },
      "source": [
        "### **Parte 2a. Etiquetado**\n",
        "Etiquetado de los comentarios frases a frases\n",
        "Usando herramientas como [brat](https://brat.nlplab.org/), [docanno](https://doccano.herokuapp.com/) o [inception](https://inception-project.github.io/) (ver [este blog](https://dida.do/blog/the-best-free-labeling-tools-for-text-annotation-in-nlp) para un rápido resumen sobre estas aplicaciones), deberán etiquetar las frases en los comentarios con las etiquetas que correspondan a cada categoría. Un ejemplo para el primer comentario lo muestra la siguiente figura: \n",
        "![image](ejemploetiquetado.png)\n",
        "\n",
        "Nota: El anterior ejemplo lo hice en la herramienta de inception (y exportando el archivo a WebAnno TSV v3.3).\n",
        "Como pueden observar la mayoría de palabras no se etiquetarán (pertenecen a una categoría como \"otros\").\n",
        "\n",
        "No deben etiquetar todo el dataset, pueden hacerlo con unas 50 (por grupo). Pero pueden intercambiarse (entre grupos) los datasets etiquetados para incrementar el número de datos (para esto es recomendable usar la misma herramienta y el mismo tipo de archivo de exportación)."
      ],
      "id": "65bd6679-8dde-4547-b59a-587dd39b794d"
    },
    {
      "cell_type": "markdown",
      "metadata": {
        "id": "c496c1d6-a564-40d0-b293-85c75bb6dbd2"
      },
      "source": [
        "### **Parte 2b. Clasificación y localización de las frases**\n",
        "Cree un modelo de clasificación por palabra (es similar al punto 2 del taller 4), donde involucren redes recurrentes. Cuando varias palabras contiguas pertenezcan a la misma etiqueta deberan unirlas para etiquetarlas como frase.  Para este modelo deben seguir los mismos pasos de la parte 1, pero cambiando un poco el modelo. \n",
        "\n",
        "- Desarrolle un modelo inicializando los pesos de forma aleatoria (por defecto)\n",
        "- Desarrolle un modelo partiendo de los pesos de la parte 1.\n",
        "- Desarrolle un modelo word2vec y posteriormente cargue estos pesos en la capa de embedding para desarrollar el modelo recurrente.Les puede ser útil [esto](https://gist.github.com/dhruvdcoder/cbb8d7967a499ba85418c18414e2cdce).\n",
        "- Compare los modelos anteriores.\n",
        "- Visualice la clasificación de algunas frases del conjunto de validación usando spacy o la herramienta que usaron para etiquetar."
      ],
      "id": "c496c1d6-a564-40d0-b293-85c75bb6dbd2"
    },
    {
      "cell_type": "markdown",
      "metadata": {
        "id": "c084bfb2-c0ab-4dad-9c12-a432cbc5b09f"
      },
      "source": [
        "-----\n",
        "Es importante que realicen gráficos y visualizaciones que ayuden a la interpretación. No olviden ir analizando y comentando los hallazgos, y sobretodo **concluir**. El entregable es un notebook de Jupyter, debidamente presentado y comentado.\n",
        "\n",
        "- ¿Qué diferencian encuentran con un tipo de clasificación respecto al otro?\n",
        "- ¿Los pesos de una tarea ayudan a la otra?\n",
        "- ¿Es posible analizar o intuir a partir de pesos o activaciones, que parte del texto está ayudando en la parte 1 a clasificar?"
      ],
      "id": "c084bfb2-c0ab-4dad-9c12-a432cbc5b09f"
    },
    {
      "cell_type": "markdown",
      "metadata": {
        "id": "15770525-a80c-4903-9e95-be1eb3750065"
      },
      "source": [
        "## **Parte 3 [Opcional]. Modelo de Generación de revisiones**\n",
        "\n",
        "Esta parte es totalmente opcional, no puntua en si para el proyecto (pero si puede dar bonificación).\n",
        "En esta parte debera crear un modelo de generación de texto a partir del corpus completo de las revisiones. Esto es lo que se conoce como un modelo de generación del texto. La idea es usar modelos recurrentes para generar texto. Básicamente es crear un modelo que pueda predecir las palabras del corpues teniendo en cuenta los estados anteriores (los tokens anteriores).  Se podría por ejemplo iniciar con una frase y posteriormente producir una palabra, luego se une a la frase y se sigue así de forma sucesiva. Si desean hacer esta parte, [este blog](https://www.analyticsvidhya.com/blog/2020/08/build-a-natural-language-generation-nlg-system-using-pytorch/) y [este otro blog](https://www.kdnuggets.com/2020/07/pytorch-lstm-text-generation-tutorial.html) les puede servir de ayuda."
      ],
      "id": "15770525-a80c-4903-9e95-be1eb3750065"
    },
    {
      "cell_type": "markdown",
      "metadata": {
        "id": "3269e04b-c090-40d5-a04a-9c4e1f72574b"
      },
      "source": [
        "### Tip de lectura de datos del archivo JSON"
      ],
      "id": "3269e04b-c090-40d5-a04a-9c4e1f72574b"
    },
    {
      "cell_type": "markdown",
      "metadata": {
        "id": "a4b26690"
      },
      "source": [
        "# **Implementación**\n",
        "\n",
        "## **Parte 1. Clasificación sencilla de cada revisión**\n",
        "\n",
        "**Punto 1.**\n",
        "\n",
        "Vamos a leer los datos del archivo `reviews.json`, a limpiarlos y a dividir en conjunto de entrenamiento y validación. Para ello, primero importemos las librerías necesarias para el desarrollo del proyecto.\n"
      ],
      "id": "a4b26690"
    },
    {
      "cell_type": "code",
      "source": [
        "!pip install -q gradio"
      ],
      "metadata": {
        "colab": {
          "base_uri": "https://localhost:8080/"
        },
        "id": "nvuCJdKKdBIr",
        "outputId": "64089fd6-e3e1-4040-c932-a8ecb449acfe"
      },
      "id": "nvuCJdKKdBIr",
      "execution_count": null,
      "outputs": [
        {
          "output_type": "stream",
          "name": "stdout",
          "text": [
            "\u001b[K     |████████████████████████████████| 668 kB 4.3 MB/s \n",
            "\u001b[K     |████████████████████████████████| 211 kB 25.5 MB/s \n",
            "\u001b[K     |████████████████████████████████| 1.1 MB 40.8 MB/s \n",
            "\u001b[K     |████████████████████████████████| 255 kB 53.4 MB/s \n",
            "\u001b[K     |████████████████████████████████| 84 kB 1.8 MB/s \n",
            "\u001b[K     |████████████████████████████████| 53 kB 2.1 MB/s \n",
            "\u001b[K     |████████████████████████████████| 54 kB 2.3 MB/s \n",
            "\u001b[K     |████████████████████████████████| 2.0 MB 38.1 MB/s \n",
            "\u001b[K     |████████████████████████████████| 271 kB 48.5 MB/s \n",
            "\u001b[K     |████████████████████████████████| 144 kB 50.8 MB/s \n",
            "\u001b[K     |████████████████████████████████| 94 kB 3.0 MB/s \n",
            "\u001b[K     |████████████████████████████████| 10.9 MB 28.1 MB/s \n",
            "\u001b[K     |████████████████████████████████| 58 kB 5.4 MB/s \n",
            "\u001b[K     |████████████████████████████████| 79 kB 5.9 MB/s \n",
            "\u001b[K     |████████████████████████████████| 43 kB 1.9 MB/s \n",
            "\u001b[K     |████████████████████████████████| 61 kB 402 kB/s \n",
            "\u001b[K     |████████████████████████████████| 3.6 MB 36.2 MB/s \n",
            "\u001b[K     |████████████████████████████████| 856 kB 48.0 MB/s \n",
            "\u001b[K     |████████████████████████████████| 58 kB 4.3 MB/s \n",
            "\u001b[?25h  Building wheel for ffmpy (setup.py) ... \u001b[?25l\u001b[?25hdone\n",
            "  Building wheel for python-multipart (setup.py) ... \u001b[?25l\u001b[?25hdone\n"
          ]
        }
      ]
    },
    {
      "cell_type": "code",
      "execution_count": null,
      "metadata": {
        "id": "30bb1196-ac16-48c8-aacc-9da125fd6e3a"
      },
      "outputs": [],
      "source": [
        "import torch\n",
        "import torch.nn as nn\n",
        "import torch.nn.functional as F\n",
        "import pandas as pd\n",
        "\n",
        "from torch.utils.data import Dataset, DataLoader\n",
        "from torch.utils.data.dataset import random_split\n",
        "from torchtext.vocab import vocab\n",
        "import sklearn\n",
        "import numpy as np\n",
        "from functools import partial\n",
        "import matplotlib.pyplot as plt\n",
        "\n",
        "from sklearn.model_selection import train_test_split\n",
        "\n",
        "import re\n",
        "from collections import Counter, OrderedDict\n",
        "from unicodedata import normalize\n",
        "import json\n",
        "\n",
        "import gradio as gr"
      ],
      "id": "30bb1196-ac16-48c8-aacc-9da125fd6e3a"
    },
    {
      "cell_type": "markdown",
      "source": [
        "Leemos el archivo y lo guardamos en un *dataframe* de `Pandas`."
      ],
      "metadata": {
        "id": "RhA0k7ybZZ_i"
      },
      "id": "RhA0k7ybZZ_i"
    },
    {
      "cell_type": "code",
      "execution_count": null,
      "metadata": {
        "colab": {
          "base_uri": "https://localhost:8080/",
          "height": 204
        },
        "id": "5c259170-4bb7-4a78-aa90-9d4a74032ca4",
        "outputId": "3831992d-c9bc-4138-c29a-a5bfa74abc7e"
      },
      "outputs": [
        {
          "output_type": "execute_result",
          "data": {
            "text/plain": [
              "  confidence evaluation  id lan orientation remarks  \\\n",
              "0          4          1   1  es           0           \n",
              "1          4          1   2  es           1           \n",
              "2          5          1   3  es           1           \n",
              "3          4          2   1  es           1           \n",
              "4          4          2   2  es           0           \n",
              "\n",
              "                                                text    timespan  \n",
              "0  - El artículo aborda un problema contingente y...  2010-07-05  \n",
              "1  El artículo presenta recomendaciones prácticas...  2010-07-05  \n",
              "2  - El tema es muy interesante y puede ser de mu...  2010-07-05  \n",
              "3  Se explica en forma ordenada y didáctica una e...  2010-07-05  \n",
              "4                                                     2010-07-05  "
            ],
            "text/html": [
              "\n",
              "  <div id=\"df-eab4cfa6-49e6-4a57-bafe-f8b25f6e980c\">\n",
              "    <div class=\"colab-df-container\">\n",
              "      <div>\n",
              "<style scoped>\n",
              "    .dataframe tbody tr th:only-of-type {\n",
              "        vertical-align: middle;\n",
              "    }\n",
              "\n",
              "    .dataframe tbody tr th {\n",
              "        vertical-align: top;\n",
              "    }\n",
              "\n",
              "    .dataframe thead th {\n",
              "        text-align: right;\n",
              "    }\n",
              "</style>\n",
              "<table border=\"1\" class=\"dataframe\">\n",
              "  <thead>\n",
              "    <tr style=\"text-align: right;\">\n",
              "      <th></th>\n",
              "      <th>confidence</th>\n",
              "      <th>evaluation</th>\n",
              "      <th>id</th>\n",
              "      <th>lan</th>\n",
              "      <th>orientation</th>\n",
              "      <th>remarks</th>\n",
              "      <th>text</th>\n",
              "      <th>timespan</th>\n",
              "    </tr>\n",
              "  </thead>\n",
              "  <tbody>\n",
              "    <tr>\n",
              "      <th>0</th>\n",
              "      <td>4</td>\n",
              "      <td>1</td>\n",
              "      <td>1</td>\n",
              "      <td>es</td>\n",
              "      <td>0</td>\n",
              "      <td></td>\n",
              "      <td>- El artículo aborda un problema contingente y...</td>\n",
              "      <td>2010-07-05</td>\n",
              "    </tr>\n",
              "    <tr>\n",
              "      <th>1</th>\n",
              "      <td>4</td>\n",
              "      <td>1</td>\n",
              "      <td>2</td>\n",
              "      <td>es</td>\n",
              "      <td>1</td>\n",
              "      <td></td>\n",
              "      <td>El artículo presenta recomendaciones prácticas...</td>\n",
              "      <td>2010-07-05</td>\n",
              "    </tr>\n",
              "    <tr>\n",
              "      <th>2</th>\n",
              "      <td>5</td>\n",
              "      <td>1</td>\n",
              "      <td>3</td>\n",
              "      <td>es</td>\n",
              "      <td>1</td>\n",
              "      <td></td>\n",
              "      <td>- El tema es muy interesante y puede ser de mu...</td>\n",
              "      <td>2010-07-05</td>\n",
              "    </tr>\n",
              "    <tr>\n",
              "      <th>3</th>\n",
              "      <td>4</td>\n",
              "      <td>2</td>\n",
              "      <td>1</td>\n",
              "      <td>es</td>\n",
              "      <td>1</td>\n",
              "      <td></td>\n",
              "      <td>Se explica en forma ordenada y didáctica una e...</td>\n",
              "      <td>2010-07-05</td>\n",
              "    </tr>\n",
              "    <tr>\n",
              "      <th>4</th>\n",
              "      <td>4</td>\n",
              "      <td>2</td>\n",
              "      <td>2</td>\n",
              "      <td>es</td>\n",
              "      <td>0</td>\n",
              "      <td></td>\n",
              "      <td></td>\n",
              "      <td>2010-07-05</td>\n",
              "    </tr>\n",
              "  </tbody>\n",
              "</table>\n",
              "</div>\n",
              "      <button class=\"colab-df-convert\" onclick=\"convertToInteractive('df-eab4cfa6-49e6-4a57-bafe-f8b25f6e980c')\"\n",
              "              title=\"Convert this dataframe to an interactive table.\"\n",
              "              style=\"display:none;\">\n",
              "        \n",
              "  <svg xmlns=\"http://www.w3.org/2000/svg\" height=\"24px\"viewBox=\"0 0 24 24\"\n",
              "       width=\"24px\">\n",
              "    <path d=\"M0 0h24v24H0V0z\" fill=\"none\"/>\n",
              "    <path d=\"M18.56 5.44l.94 2.06.94-2.06 2.06-.94-2.06-.94-.94-2.06-.94 2.06-2.06.94zm-11 1L8.5 8.5l.94-2.06 2.06-.94-2.06-.94L8.5 2.5l-.94 2.06-2.06.94zm10 10l.94 2.06.94-2.06 2.06-.94-2.06-.94-.94-2.06-.94 2.06-2.06.94z\"/><path d=\"M17.41 7.96l-1.37-1.37c-.4-.4-.92-.59-1.43-.59-.52 0-1.04.2-1.43.59L10.3 9.45l-7.72 7.72c-.78.78-.78 2.05 0 2.83L4 21.41c.39.39.9.59 1.41.59.51 0 1.02-.2 1.41-.59l7.78-7.78 2.81-2.81c.8-.78.8-2.07 0-2.86zM5.41 20L4 18.59l7.72-7.72 1.47 1.35L5.41 20z\"/>\n",
              "  </svg>\n",
              "      </button>\n",
              "      \n",
              "  <style>\n",
              "    .colab-df-container {\n",
              "      display:flex;\n",
              "      flex-wrap:wrap;\n",
              "      gap: 12px;\n",
              "    }\n",
              "\n",
              "    .colab-df-convert {\n",
              "      background-color: #E8F0FE;\n",
              "      border: none;\n",
              "      border-radius: 50%;\n",
              "      cursor: pointer;\n",
              "      display: none;\n",
              "      fill: #1967D2;\n",
              "      height: 32px;\n",
              "      padding: 0 0 0 0;\n",
              "      width: 32px;\n",
              "    }\n",
              "\n",
              "    .colab-df-convert:hover {\n",
              "      background-color: #E2EBFA;\n",
              "      box-shadow: 0px 1px 2px rgba(60, 64, 67, 0.3), 0px 1px 3px 1px rgba(60, 64, 67, 0.15);\n",
              "      fill: #174EA6;\n",
              "    }\n",
              "\n",
              "    [theme=dark] .colab-df-convert {\n",
              "      background-color: #3B4455;\n",
              "      fill: #D2E3FC;\n",
              "    }\n",
              "\n",
              "    [theme=dark] .colab-df-convert:hover {\n",
              "      background-color: #434B5C;\n",
              "      box-shadow: 0px 1px 3px 1px rgba(0, 0, 0, 0.15);\n",
              "      filter: drop-shadow(0px 1px 2px rgba(0, 0, 0, 0.3));\n",
              "      fill: #FFFFFF;\n",
              "    }\n",
              "  </style>\n",
              "\n",
              "      <script>\n",
              "        const buttonEl =\n",
              "          document.querySelector('#df-eab4cfa6-49e6-4a57-bafe-f8b25f6e980c button.colab-df-convert');\n",
              "        buttonEl.style.display =\n",
              "          google.colab.kernel.accessAllowed ? 'block' : 'none';\n",
              "\n",
              "        async function convertToInteractive(key) {\n",
              "          const element = document.querySelector('#df-eab4cfa6-49e6-4a57-bafe-f8b25f6e980c');\n",
              "          const dataTable =\n",
              "            await google.colab.kernel.invokeFunction('convertToInteractive',\n",
              "                                                     [key], {});\n",
              "          if (!dataTable) return;\n",
              "\n",
              "          const docLinkHtml = 'Like what you see? Visit the ' +\n",
              "            '<a target=\"_blank\" href=https://colab.research.google.com/notebooks/data_table.ipynb>data table notebook</a>'\n",
              "            + ' to learn more about interactive tables.';\n",
              "          element.innerHTML = '';\n",
              "          dataTable['output_type'] = 'display_data';\n",
              "          await google.colab.output.renderOutput(dataTable, element);\n",
              "          const docLink = document.createElement('div');\n",
              "          docLink.innerHTML = docLinkHtml;\n",
              "          element.appendChild(docLink);\n",
              "        }\n",
              "      </script>\n",
              "    </div>\n",
              "  </div>\n",
              "  "
            ]
          },
          "metadata": {},
          "execution_count": 55
        }
      ],
      "source": [
        "f = open('reviews.json', encoding=\"utf8\")\n",
        "data = json.load(f)\n",
        "f.close()\n",
        "\n",
        "df = pd.json_normalize(data['paper'], record_path=[\"review\"])\n",
        "df.head()\n"
      ],
      "id": "5c259170-4bb7-4a78-aa90-9d4a74032ca4"
    },
    {
      "cell_type": "markdown",
      "metadata": {
        "id": "b04d4c77"
      },
      "source": [
        "**Punto 2.** \n",
        "\n",
        "Para empezar el preprocesamiento vamos a asegurarnos de que la escala de *evaluation* sean solo números positivos y que la red neuronal lo pueda entender como clases válidas."
      ],
      "id": "b04d4c77"
    },
    {
      "cell_type": "code",
      "execution_count": null,
      "metadata": {
        "id": "f60fc898"
      },
      "outputs": [],
      "source": [
        "df[\"evaluation\"] = df[\"evaluation\"].apply(lambda x: int(x) + 2)"
      ],
      "id": "f60fc898"
    },
    {
      "cell_type": "markdown",
      "source": [
        "También nos vamos a deshacer de filas en donde haya comentarios vacíos, pues no aportan nada al problema."
      ],
      "metadata": {
        "id": "ASW1W0fDaAvL"
      },
      "id": "ASW1W0fDaAvL"
    },
    {
      "cell_type": "code",
      "execution_count": null,
      "metadata": {
        "colab": {
          "base_uri": "https://localhost:8080/",
          "height": 204
        },
        "id": "0f409860",
        "outputId": "dbb994c6-1035-4d8c-cb6d-f2ac6074fea5"
      },
      "outputs": [
        {
          "output_type": "execute_result",
          "data": {
            "text/plain": [
              "  confidence  evaluation  id lan orientation remarks  \\\n",
              "0          4           3   1  es           0           \n",
              "1          4           3   2  es           1           \n",
              "2          5           3   3  es           1           \n",
              "3          4           4   1  es           1           \n",
              "4          4           4   3  es           0           \n",
              "\n",
              "                                                text    timespan  \n",
              "0  - El artículo aborda un problema contingente y...  2010-07-05  \n",
              "1  El artículo presenta recomendaciones prácticas...  2010-07-05  \n",
              "2  - El tema es muy interesante y puede ser de mu...  2010-07-05  \n",
              "3  Se explica en forma ordenada y didáctica una e...  2010-07-05  \n",
              "4  Los autores describen una metodología para des...  2010-07-05  "
            ],
            "text/html": [
              "\n",
              "  <div id=\"df-a9a77ee2-1626-4314-b791-c822dc1904c3\">\n",
              "    <div class=\"colab-df-container\">\n",
              "      <div>\n",
              "<style scoped>\n",
              "    .dataframe tbody tr th:only-of-type {\n",
              "        vertical-align: middle;\n",
              "    }\n",
              "\n",
              "    .dataframe tbody tr th {\n",
              "        vertical-align: top;\n",
              "    }\n",
              "\n",
              "    .dataframe thead th {\n",
              "        text-align: right;\n",
              "    }\n",
              "</style>\n",
              "<table border=\"1\" class=\"dataframe\">\n",
              "  <thead>\n",
              "    <tr style=\"text-align: right;\">\n",
              "      <th></th>\n",
              "      <th>confidence</th>\n",
              "      <th>evaluation</th>\n",
              "      <th>id</th>\n",
              "      <th>lan</th>\n",
              "      <th>orientation</th>\n",
              "      <th>remarks</th>\n",
              "      <th>text</th>\n",
              "      <th>timespan</th>\n",
              "    </tr>\n",
              "  </thead>\n",
              "  <tbody>\n",
              "    <tr>\n",
              "      <th>0</th>\n",
              "      <td>4</td>\n",
              "      <td>3</td>\n",
              "      <td>1</td>\n",
              "      <td>es</td>\n",
              "      <td>0</td>\n",
              "      <td></td>\n",
              "      <td>- El artículo aborda un problema contingente y...</td>\n",
              "      <td>2010-07-05</td>\n",
              "    </tr>\n",
              "    <tr>\n",
              "      <th>1</th>\n",
              "      <td>4</td>\n",
              "      <td>3</td>\n",
              "      <td>2</td>\n",
              "      <td>es</td>\n",
              "      <td>1</td>\n",
              "      <td></td>\n",
              "      <td>El artículo presenta recomendaciones prácticas...</td>\n",
              "      <td>2010-07-05</td>\n",
              "    </tr>\n",
              "    <tr>\n",
              "      <th>2</th>\n",
              "      <td>5</td>\n",
              "      <td>3</td>\n",
              "      <td>3</td>\n",
              "      <td>es</td>\n",
              "      <td>1</td>\n",
              "      <td></td>\n",
              "      <td>- El tema es muy interesante y puede ser de mu...</td>\n",
              "      <td>2010-07-05</td>\n",
              "    </tr>\n",
              "    <tr>\n",
              "      <th>3</th>\n",
              "      <td>4</td>\n",
              "      <td>4</td>\n",
              "      <td>1</td>\n",
              "      <td>es</td>\n",
              "      <td>1</td>\n",
              "      <td></td>\n",
              "      <td>Se explica en forma ordenada y didáctica una e...</td>\n",
              "      <td>2010-07-05</td>\n",
              "    </tr>\n",
              "    <tr>\n",
              "      <th>4</th>\n",
              "      <td>4</td>\n",
              "      <td>4</td>\n",
              "      <td>3</td>\n",
              "      <td>es</td>\n",
              "      <td>0</td>\n",
              "      <td></td>\n",
              "      <td>Los autores describen una metodología para des...</td>\n",
              "      <td>2010-07-05</td>\n",
              "    </tr>\n",
              "  </tbody>\n",
              "</table>\n",
              "</div>\n",
              "      <button class=\"colab-df-convert\" onclick=\"convertToInteractive('df-a9a77ee2-1626-4314-b791-c822dc1904c3')\"\n",
              "              title=\"Convert this dataframe to an interactive table.\"\n",
              "              style=\"display:none;\">\n",
              "        \n",
              "  <svg xmlns=\"http://www.w3.org/2000/svg\" height=\"24px\"viewBox=\"0 0 24 24\"\n",
              "       width=\"24px\">\n",
              "    <path d=\"M0 0h24v24H0V0z\" fill=\"none\"/>\n",
              "    <path d=\"M18.56 5.44l.94 2.06.94-2.06 2.06-.94-2.06-.94-.94-2.06-.94 2.06-2.06.94zm-11 1L8.5 8.5l.94-2.06 2.06-.94-2.06-.94L8.5 2.5l-.94 2.06-2.06.94zm10 10l.94 2.06.94-2.06 2.06-.94-2.06-.94-.94-2.06-.94 2.06-2.06.94z\"/><path d=\"M17.41 7.96l-1.37-1.37c-.4-.4-.92-.59-1.43-.59-.52 0-1.04.2-1.43.59L10.3 9.45l-7.72 7.72c-.78.78-.78 2.05 0 2.83L4 21.41c.39.39.9.59 1.41.59.51 0 1.02-.2 1.41-.59l7.78-7.78 2.81-2.81c.8-.78.8-2.07 0-2.86zM5.41 20L4 18.59l7.72-7.72 1.47 1.35L5.41 20z\"/>\n",
              "  </svg>\n",
              "      </button>\n",
              "      \n",
              "  <style>\n",
              "    .colab-df-container {\n",
              "      display:flex;\n",
              "      flex-wrap:wrap;\n",
              "      gap: 12px;\n",
              "    }\n",
              "\n",
              "    .colab-df-convert {\n",
              "      background-color: #E8F0FE;\n",
              "      border: none;\n",
              "      border-radius: 50%;\n",
              "      cursor: pointer;\n",
              "      display: none;\n",
              "      fill: #1967D2;\n",
              "      height: 32px;\n",
              "      padding: 0 0 0 0;\n",
              "      width: 32px;\n",
              "    }\n",
              "\n",
              "    .colab-df-convert:hover {\n",
              "      background-color: #E2EBFA;\n",
              "      box-shadow: 0px 1px 2px rgba(60, 64, 67, 0.3), 0px 1px 3px 1px rgba(60, 64, 67, 0.15);\n",
              "      fill: #174EA6;\n",
              "    }\n",
              "\n",
              "    [theme=dark] .colab-df-convert {\n",
              "      background-color: #3B4455;\n",
              "      fill: #D2E3FC;\n",
              "    }\n",
              "\n",
              "    [theme=dark] .colab-df-convert:hover {\n",
              "      background-color: #434B5C;\n",
              "      box-shadow: 0px 1px 3px 1px rgba(0, 0, 0, 0.15);\n",
              "      filter: drop-shadow(0px 1px 2px rgba(0, 0, 0, 0.3));\n",
              "      fill: #FFFFFF;\n",
              "    }\n",
              "  </style>\n",
              "\n",
              "      <script>\n",
              "        const buttonEl =\n",
              "          document.querySelector('#df-a9a77ee2-1626-4314-b791-c822dc1904c3 button.colab-df-convert');\n",
              "        buttonEl.style.display =\n",
              "          google.colab.kernel.accessAllowed ? 'block' : 'none';\n",
              "\n",
              "        async function convertToInteractive(key) {\n",
              "          const element = document.querySelector('#df-a9a77ee2-1626-4314-b791-c822dc1904c3');\n",
              "          const dataTable =\n",
              "            await google.colab.kernel.invokeFunction('convertToInteractive',\n",
              "                                                     [key], {});\n",
              "          if (!dataTable) return;\n",
              "\n",
              "          const docLinkHtml = 'Like what you see? Visit the ' +\n",
              "            '<a target=\"_blank\" href=https://colab.research.google.com/notebooks/data_table.ipynb>data table notebook</a>'\n",
              "            + ' to learn more about interactive tables.';\n",
              "          element.innerHTML = '';\n",
              "          dataTable['output_type'] = 'display_data';\n",
              "          await google.colab.output.renderOutput(dataTable, element);\n",
              "          const docLink = document.createElement('div');\n",
              "          docLink.innerHTML = docLinkHtml;\n",
              "          element.appendChild(docLink);\n",
              "        }\n",
              "      </script>\n",
              "    </div>\n",
              "  </div>\n",
              "  "
            ]
          },
          "metadata": {},
          "execution_count": 57
        }
      ],
      "source": [
        "df = df.drop(df[df['text'] == \"\"].index, axis=0)\n",
        "df.reset_index(drop = True, inplace = True)\n",
        "df.head()"
      ],
      "id": "0f409860"
    },
    {
      "cell_type": "markdown",
      "metadata": {
        "id": "sQ9hOObQydiX"
      },
      "source": [
        "Con el fin de obtener un resultado con sentido, se realiza la limpieza del texto para eliminar caracteres especiales y cualquier cosa que pueda perturbar el desarrollo del modelo."
      ],
      "id": "sQ9hOObQydiX"
    },
    {
      "cell_type": "code",
      "execution_count": null,
      "metadata": {
        "id": "9189bbe4"
      },
      "outputs": [],
      "source": [
        "def clean_text(text):\n",
        "    text = re.sub(\n",
        "            r\"([^n\\u0300-\\u036f]|n(?!\\u0303(?![\\u0300-\\u036f])))[\\u0300-\\u036f]+\", r\"\\1\", \n",
        "            normalize( \"NFD\", text), 0, re.I\n",
        "        )\n",
        "    text = re.sub('<[^>]*>', '', text)\n",
        "    emoticons = re.findall('(?::|;|=)(?:-)?(?:\\)|\\(|D|P)', text.lower())\n",
        "    text = re.sub('[\\W]+', ' ', text.lower()) +\\\n",
        "        ' '.join(emoticons).replace('-', '')\n",
        "    text = re.sub(r\"$\\d+\\W+|\\b\\d+\\b|\\W+\\d+$\", \"\", text)\n",
        "    return text\n",
        "\n",
        "def tokenizer(text):\n",
        "    tokenized = text.split()\n",
        "    return tokenized"
      ],
      "id": "9189bbe4"
    },
    {
      "cell_type": "code",
      "execution_count": null,
      "metadata": {
        "id": "45103aa0"
      },
      "outputs": [],
      "source": [
        "df[\"clean_text\"] = df[\"text\"].apply(clean_text)"
      ],
      "id": "45103aa0"
    },
    {
      "cell_type": "code",
      "execution_count": null,
      "metadata": {
        "colab": {
          "base_uri": "https://localhost:8080/",
          "height": 204
        },
        "id": "zcEAdj-tfACJ",
        "outputId": "9322841b-b50d-4869-b000-20aa469e8ddb"
      },
      "outputs": [
        {
          "output_type": "execute_result",
          "data": {
            "text/plain": [
              "  confidence  evaluation  id lan orientation remarks  \\\n",
              "0          4           3   1  es           0           \n",
              "1          4           3   2  es           1           \n",
              "2          5           3   3  es           1           \n",
              "3          4           4   1  es           1           \n",
              "4          4           4   3  es           0           \n",
              "\n",
              "                                                text    timespan  \\\n",
              "0  - El artículo aborda un problema contingente y...  2010-07-05   \n",
              "1  El artículo presenta recomendaciones prácticas...  2010-07-05   \n",
              "2  - El tema es muy interesante y puede ser de mu...  2010-07-05   \n",
              "3  Se explica en forma ordenada y didáctica una e...  2010-07-05   \n",
              "4  Los autores describen una metodología para des...  2010-07-05   \n",
              "\n",
              "                                          clean_text  \n",
              "0   el articulo aborda un problema contingente y ...  \n",
              "1  el articulo presenta recomendaciones practicas...  \n",
              "2   el tema es muy interesante y puede ser de muc...  \n",
              "3  se explica en forma ordenada y didactica una e...  \n",
              "4  los autores describen una metodologia para des...  "
            ],
            "text/html": [
              "\n",
              "  <div id=\"df-add48a82-3c4b-4308-b466-8eeb4252b5a5\">\n",
              "    <div class=\"colab-df-container\">\n",
              "      <div>\n",
              "<style scoped>\n",
              "    .dataframe tbody tr th:only-of-type {\n",
              "        vertical-align: middle;\n",
              "    }\n",
              "\n",
              "    .dataframe tbody tr th {\n",
              "        vertical-align: top;\n",
              "    }\n",
              "\n",
              "    .dataframe thead th {\n",
              "        text-align: right;\n",
              "    }\n",
              "</style>\n",
              "<table border=\"1\" class=\"dataframe\">\n",
              "  <thead>\n",
              "    <tr style=\"text-align: right;\">\n",
              "      <th></th>\n",
              "      <th>confidence</th>\n",
              "      <th>evaluation</th>\n",
              "      <th>id</th>\n",
              "      <th>lan</th>\n",
              "      <th>orientation</th>\n",
              "      <th>remarks</th>\n",
              "      <th>text</th>\n",
              "      <th>timespan</th>\n",
              "      <th>clean_text</th>\n",
              "    </tr>\n",
              "  </thead>\n",
              "  <tbody>\n",
              "    <tr>\n",
              "      <th>0</th>\n",
              "      <td>4</td>\n",
              "      <td>3</td>\n",
              "      <td>1</td>\n",
              "      <td>es</td>\n",
              "      <td>0</td>\n",
              "      <td></td>\n",
              "      <td>- El artículo aborda un problema contingente y...</td>\n",
              "      <td>2010-07-05</td>\n",
              "      <td>el articulo aborda un problema contingente y ...</td>\n",
              "    </tr>\n",
              "    <tr>\n",
              "      <th>1</th>\n",
              "      <td>4</td>\n",
              "      <td>3</td>\n",
              "      <td>2</td>\n",
              "      <td>es</td>\n",
              "      <td>1</td>\n",
              "      <td></td>\n",
              "      <td>El artículo presenta recomendaciones prácticas...</td>\n",
              "      <td>2010-07-05</td>\n",
              "      <td>el articulo presenta recomendaciones practicas...</td>\n",
              "    </tr>\n",
              "    <tr>\n",
              "      <th>2</th>\n",
              "      <td>5</td>\n",
              "      <td>3</td>\n",
              "      <td>3</td>\n",
              "      <td>es</td>\n",
              "      <td>1</td>\n",
              "      <td></td>\n",
              "      <td>- El tema es muy interesante y puede ser de mu...</td>\n",
              "      <td>2010-07-05</td>\n",
              "      <td>el tema es muy interesante y puede ser de muc...</td>\n",
              "    </tr>\n",
              "    <tr>\n",
              "      <th>3</th>\n",
              "      <td>4</td>\n",
              "      <td>4</td>\n",
              "      <td>1</td>\n",
              "      <td>es</td>\n",
              "      <td>1</td>\n",
              "      <td></td>\n",
              "      <td>Se explica en forma ordenada y didáctica una e...</td>\n",
              "      <td>2010-07-05</td>\n",
              "      <td>se explica en forma ordenada y didactica una e...</td>\n",
              "    </tr>\n",
              "    <tr>\n",
              "      <th>4</th>\n",
              "      <td>4</td>\n",
              "      <td>4</td>\n",
              "      <td>3</td>\n",
              "      <td>es</td>\n",
              "      <td>0</td>\n",
              "      <td></td>\n",
              "      <td>Los autores describen una metodología para des...</td>\n",
              "      <td>2010-07-05</td>\n",
              "      <td>los autores describen una metodologia para des...</td>\n",
              "    </tr>\n",
              "  </tbody>\n",
              "</table>\n",
              "</div>\n",
              "      <button class=\"colab-df-convert\" onclick=\"convertToInteractive('df-add48a82-3c4b-4308-b466-8eeb4252b5a5')\"\n",
              "              title=\"Convert this dataframe to an interactive table.\"\n",
              "              style=\"display:none;\">\n",
              "        \n",
              "  <svg xmlns=\"http://www.w3.org/2000/svg\" height=\"24px\"viewBox=\"0 0 24 24\"\n",
              "       width=\"24px\">\n",
              "    <path d=\"M0 0h24v24H0V0z\" fill=\"none\"/>\n",
              "    <path d=\"M18.56 5.44l.94 2.06.94-2.06 2.06-.94-2.06-.94-.94-2.06-.94 2.06-2.06.94zm-11 1L8.5 8.5l.94-2.06 2.06-.94-2.06-.94L8.5 2.5l-.94 2.06-2.06.94zm10 10l.94 2.06.94-2.06 2.06-.94-2.06-.94-.94-2.06-.94 2.06-2.06.94z\"/><path d=\"M17.41 7.96l-1.37-1.37c-.4-.4-.92-.59-1.43-.59-.52 0-1.04.2-1.43.59L10.3 9.45l-7.72 7.72c-.78.78-.78 2.05 0 2.83L4 21.41c.39.39.9.59 1.41.59.51 0 1.02-.2 1.41-.59l7.78-7.78 2.81-2.81c.8-.78.8-2.07 0-2.86zM5.41 20L4 18.59l7.72-7.72 1.47 1.35L5.41 20z\"/>\n",
              "  </svg>\n",
              "      </button>\n",
              "      \n",
              "  <style>\n",
              "    .colab-df-container {\n",
              "      display:flex;\n",
              "      flex-wrap:wrap;\n",
              "      gap: 12px;\n",
              "    }\n",
              "\n",
              "    .colab-df-convert {\n",
              "      background-color: #E8F0FE;\n",
              "      border: none;\n",
              "      border-radius: 50%;\n",
              "      cursor: pointer;\n",
              "      display: none;\n",
              "      fill: #1967D2;\n",
              "      height: 32px;\n",
              "      padding: 0 0 0 0;\n",
              "      width: 32px;\n",
              "    }\n",
              "\n",
              "    .colab-df-convert:hover {\n",
              "      background-color: #E2EBFA;\n",
              "      box-shadow: 0px 1px 2px rgba(60, 64, 67, 0.3), 0px 1px 3px 1px rgba(60, 64, 67, 0.15);\n",
              "      fill: #174EA6;\n",
              "    }\n",
              "\n",
              "    [theme=dark] .colab-df-convert {\n",
              "      background-color: #3B4455;\n",
              "      fill: #D2E3FC;\n",
              "    }\n",
              "\n",
              "    [theme=dark] .colab-df-convert:hover {\n",
              "      background-color: #434B5C;\n",
              "      box-shadow: 0px 1px 3px 1px rgba(0, 0, 0, 0.15);\n",
              "      filter: drop-shadow(0px 1px 2px rgba(0, 0, 0, 0.3));\n",
              "      fill: #FFFFFF;\n",
              "    }\n",
              "  </style>\n",
              "\n",
              "      <script>\n",
              "        const buttonEl =\n",
              "          document.querySelector('#df-add48a82-3c4b-4308-b466-8eeb4252b5a5 button.colab-df-convert');\n",
              "        buttonEl.style.display =\n",
              "          google.colab.kernel.accessAllowed ? 'block' : 'none';\n",
              "\n",
              "        async function convertToInteractive(key) {\n",
              "          const element = document.querySelector('#df-add48a82-3c4b-4308-b466-8eeb4252b5a5');\n",
              "          const dataTable =\n",
              "            await google.colab.kernel.invokeFunction('convertToInteractive',\n",
              "                                                     [key], {});\n",
              "          if (!dataTable) return;\n",
              "\n",
              "          const docLinkHtml = 'Like what you see? Visit the ' +\n",
              "            '<a target=\"_blank\" href=https://colab.research.google.com/notebooks/data_table.ipynb>data table notebook</a>'\n",
              "            + ' to learn more about interactive tables.';\n",
              "          element.innerHTML = '';\n",
              "          dataTable['output_type'] = 'display_data';\n",
              "          await google.colab.output.renderOutput(dataTable, element);\n",
              "          const docLink = document.createElement('div');\n",
              "          docLink.innerHTML = docLinkHtml;\n",
              "          element.appendChild(docLink);\n",
              "        }\n",
              "      </script>\n",
              "    </div>\n",
              "  </div>\n",
              "  "
            ]
          },
          "metadata": {},
          "execution_count": 60
        }
      ],
      "source": [
        "df.head()"
      ],
      "id": "zcEAdj-tfACJ"
    },
    {
      "cell_type": "markdown",
      "metadata": {
        "id": "97Esfe6iyztf"
      },
      "source": [
        "Con el fin de conocer la distribución de nuestros datos se va a contar los valores de cada una de las etiquetas."
      ],
      "id": "97Esfe6iyztf"
    },
    {
      "cell_type": "code",
      "execution_count": null,
      "metadata": {
        "colab": {
          "base_uri": "https://localhost:8080/"
        },
        "id": "94bFuIHUcp0x",
        "outputId": "cea5f228-99af-49e7-9b91-df64302c8ee6"
      },
      "outputs": [
        {
          "output_type": "execute_result",
          "data": {
            "text/plain": [
              "4    106\n",
              "3     86\n",
              "0     86\n",
              "2     62\n",
              "1     59\n",
              "Name: evaluation, dtype: int64"
            ]
          },
          "metadata": {},
          "execution_count": 61
        }
      ],
      "source": [
        "df.evaluation.value_counts()"
      ],
      "id": "94bFuIHUcp0x"
    },
    {
      "cell_type": "markdown",
      "metadata": {
        "id": "JnqXvYFjy9M_"
      },
      "source": [
        "Podemos ver como algunas clases tienen una mayor cantidad de miembros con respecto a las otras, esto puede ocasionar que el modelo clasifique de forma parcial. Con el fin de evitar esto se van a asignar ciertos pesos con la librería `sklearn` que simulen un comportamiento balanceado para las etiquetas."
      ],
      "id": "JnqXvYFjy9M_"
    },
    {
      "cell_type": "code",
      "execution_count": null,
      "metadata": {
        "colab": {
          "base_uri": "https://localhost:8080/"
        },
        "id": "0YGAJibhc3Ub",
        "outputId": "71835d84-73c2-41ac-8ac0-0fdc9f486eae"
      },
      "outputs": [
        {
          "output_type": "execute_result",
          "data": {
            "text/plain": [
              "array([0.92790698, 1.35254237, 1.28709677, 0.92790698, 0.75283019])"
            ]
          },
          "metadata": {},
          "execution_count": 62
        }
      ],
      "source": [
        "loss_weights = sklearn.utils.class_weight.compute_class_weight(class_weight = \"balanced\", classes = np.unique(df[\"evaluation\"]), y = df[\"evaluation\"])\n",
        "loss_weights"
      ],
      "id": "0YGAJibhc3Ub"
    },
    {
      "cell_type": "markdown",
      "source": [
        "Ahora, procedemos a definir una clase para organizar el *dataset* y acceder fácilmente a cada texto con su etiqueta."
      ],
      "metadata": {
        "id": "3xNWNSLt8OA9"
      },
      "id": "3xNWNSLt8OA9"
    },
    {
      "cell_type": "code",
      "execution_count": null,
      "metadata": {
        "id": "6c74be49"
      },
      "outputs": [],
      "source": [
        "class TextData(Dataset):\n",
        "    def __init__(self, dataframe):\n",
        "        super(TextData, self).__init__()\n",
        "        self.df = dataframe[[\"evaluation\", \"clean_text\"]]\n",
        "        \n",
        "    def __getitem__(self, index):\n",
        "        return self.df.iloc[index,0], self.df.iloc[index,1]\n",
        "    \n",
        "    def __len__(self):\n",
        "        return len(self.df)"
      ],
      "id": "6c74be49"
    },
    {
      "cell_type": "code",
      "execution_count": null,
      "metadata": {
        "id": "8bed07d2"
      },
      "outputs": [],
      "source": [
        "ds = TextData(df)"
      ],
      "id": "8bed07d2"
    },
    {
      "cell_type": "markdown",
      "metadata": {
        "id": "mXmNJWVo0PHR"
      },
      "source": [
        "Finalmente, se dividen los datos en entrenamiento y validación, utilizando un 70% para entrenar y un 30% para validar. Utilizamos la función `random_split` de `torch`."
      ],
      "id": "mXmNJWVo0PHR"
    },
    {
      "cell_type": "code",
      "execution_count": null,
      "metadata": {
        "id": "f351ed33"
      },
      "outputs": [],
      "source": [
        "train_dataset, valid_dataset = random_split(ds,\n",
        " [int(len(ds)*0.7),len(ds) - int(len(ds)*0.7)], torch.manual_seed(42))"
      ],
      "id": "f351ed33"
    },
    {
      "cell_type": "markdown",
      "metadata": {
        "id": "6b3d1c6c"
      },
      "source": [
        "**Punto 3.**\n",
        "\n",
        "Ahora, vamos a crear el vocabulario solo con los textos del conjunto de entrenamiento, para no sesgar al modelo y que conozca de antemano palabras que no debería. Usamos la función `vocab` de `torchtext` y agregamos palabras para *padding* y para palabras desconocidas, o *unknown*."
      ],
      "id": "6b3d1c6c"
    },
    {
      "cell_type": "code",
      "execution_count": null,
      "metadata": {
        "colab": {
          "base_uri": "https://localhost:8080/"
        },
        "id": "c1596db1",
        "outputId": "a9a3effe-6495-4bc9-bad4-c59d0e1d500f"
      },
      "outputs": [
        {
          "output_type": "stream",
          "name": "stdout",
          "text": [
            "Vocab-size: 5426\n"
          ]
        }
      ],
      "source": [
        "token_counts = Counter()\n",
        "\n",
        "for label, line in train_dataset:\n",
        "    tokens = tokenizer(line)\n",
        "    token_counts.update(tokens)\n",
        " \n",
        "print('Vocab-size:', len(token_counts))"
      ],
      "id": "c1596db1"
    },
    {
      "cell_type": "code",
      "execution_count": null,
      "metadata": {
        "id": "54ac055e"
      },
      "outputs": [],
      "source": [
        "sorted_by_freq_tuples = sorted(token_counts.items(), key=lambda x: x[1], reverse=True)\n",
        "ordered_dict = OrderedDict(sorted_by_freq_tuples)\n",
        "\n",
        "vocab = vocab(ordered_dict)\n",
        "\n",
        "vocab.insert_token(\"<pad>\", 0)\n",
        "vocab.insert_token(\"<unk>\", 1)\n",
        "vocab.set_default_index(1)\n"
      ],
      "id": "54ac055e"
    },
    {
      "cell_type": "markdown",
      "metadata": {
        "id": "L_FgU7xQ2m5b"
      },
      "source": [
        "Con el fin de emplear los recursos de *colab* se crea el dispositivo para almacenar información en la GPU, una pequeña función `text_pipeline` para convertir palabras a índices, y la función `collate_batch` para retornar cada texto de prueba del batch con su respectivo *padding* tanto en el texto como en las etiquetas."
      ],
      "id": "L_FgU7xQ2m5b"
    },
    {
      "cell_type": "code",
      "execution_count": null,
      "metadata": {
        "id": "858c5e9f"
      },
      "outputs": [],
      "source": [
        "device = torch.device('cuda:0' if torch.cuda.is_available() else 'cpu')\n",
        "\n",
        "text_pipeline = lambda x: [vocab[token] for token in tokenizer(x)]\n",
        "\n",
        "def collate_batch(batch):\n",
        "    label_list, text_list, lengths = [], [], []\n",
        "    for _label, _text in batch:\n",
        "        label_list.append(_label)\n",
        "        processed_text = torch.tensor(text_pipeline(_text), \n",
        "                                      dtype=torch.int64)\n",
        "        text_list.append(processed_text)\n",
        "        lengths.append(processed_text.size(0))\n",
        "    label_list = torch.tensor(label_list)\n",
        "    lengths = torch.tensor(lengths)\n",
        "    padded_text_list = nn.utils.rnn.pad_sequence(\n",
        "        text_list, batch_first=True)\n",
        "    return padded_text_list.to(device), label_list.to(device), lengths.to(device)"
      ],
      "id": "858c5e9f"
    },
    {
      "cell_type": "markdown",
      "metadata": {
        "id": "27456ecc"
      },
      "source": [
        "**Punto 4.**\n",
        "\n",
        "Ahora bien, se crean los *loaders* de entrenamiento y validación necesarios para evaluar nuestra arquitectura. Usamos un tamaño de *batch* por defecto de 64."
      ],
      "id": "27456ecc"
    },
    {
      "cell_type": "code",
      "execution_count": null,
      "metadata": {
        "id": "b565ef04"
      },
      "outputs": [],
      "source": [
        "train_dl = DataLoader(train_dataset, batch_size=64,\n",
        "                      shuffle=True, collate_fn=collate_batch)\n",
        "valid_dl = DataLoader(valid_dataset, batch_size=64,\n",
        "                      shuffle=True, collate_fn=collate_batch)"
      ],
      "id": "b565ef04"
    },
    {
      "cell_type": "markdown",
      "metadata": {
        "id": "a399de12"
      },
      "source": [
        "**Punto 5.**\n",
        "\n",
        "Ahora se define el modelo de red neuronal recurrente. Este recibe el tamaño del vocabulario, la dimensión del embedding, la dimensión oculta de la capa LSTM y la dimensión de una capa lineal oculta. Internamente, la red no realiza `softmax`."
      ],
      "id": "a399de12"
    },
    {
      "cell_type": "code",
      "execution_count": null,
      "metadata": {
        "id": "0ydCxAEe1FYb"
      },
      "outputs": [],
      "source": [
        "class RNN(nn.Module):\n",
        "    def __init__(self, vocab_size, embed_dim, rnn_hidden_size, fc_hidden_size):\n",
        "        super().__init__()\n",
        "        self.embedding = nn.Embedding(vocab_size, \n",
        "                                      embed_dim, \n",
        "                                      padding_idx=0) \n",
        "        self.rnn = nn.LSTM(embed_dim, rnn_hidden_size, \n",
        "                           batch_first=True, bidirectional = True, dropout = 0.2, num_layers = 3)\n",
        "        self.fc1 = nn.Linear(rnn_hidden_size*2, fc_hidden_size).to(device)\n",
        "        self.rel = nn.ReLU().to(device)\n",
        "        self.fc2 = nn.Linear(fc_hidden_size, 5).to(device)\n",
        "\n",
        "    def forward(self, text, lengths):\n",
        "        out = self.embedding(text)\n",
        "        out = nn.utils.rnn.pack_padded_sequence(out, lengths.cpu().numpy(), enforce_sorted=False, batch_first=True)\n",
        "        lstm_out, (hidden, cell)= self.rnn(out)\n",
        "        out = torch.cat((hidden[-2, :, :], hidden[-1, :, :]), dim=1)\n",
        "        out = self.fc1(out)\n",
        "        out = self.rel(out)\n",
        "        out = self.fc2(out)\n",
        "        return out"
      ],
      "id": "0ydCxAEe1FYb"
    },
    {
      "cell_type": "markdown",
      "source": [
        "Definimos el modelo, la semilla para la reproducibilidad y lo mandamos a la GPU."
      ],
      "metadata": {
        "id": "ZpjtwdbOA6bQ"
      },
      "id": "ZpjtwdbOA6bQ"
    },
    {
      "cell_type": "code",
      "execution_count": null,
      "metadata": {
        "id": "e0e0c1c7"
      },
      "outputs": [],
      "source": [
        "vocab_size = len(vocab)\n",
        "embed_dim = 200\n",
        "rnn_hidden_size = 64\n",
        "fc_hidden_size = 64\n",
        "\n",
        "torch.manual_seed(1)\n",
        "model = RNN(vocab_size, embed_dim, rnn_hidden_size, fc_hidden_size) \n",
        "model = model.to(device)\n"
      ],
      "id": "e0e0c1c7"
    },
    {
      "cell_type": "markdown",
      "metadata": {
        "id": "fab9c0cf"
      },
      "source": [
        "**Punto 6.** \n",
        "\n",
        "Vamos a definir las funciones de entrenamiento y validación por cada época. En estas ya se lleva a cabo el proceso de `softmax` para poder verificar el accuracy, pero no se hizo en la red neuronal dado que se escogió como función de pérdida el `CrossEntropy` que ya lo hace internamente.\n"
      ],
      "id": "fab9c0cf"
    },
    {
      "cell_type": "code",
      "execution_count": null,
      "metadata": {
        "id": "i7K7moXxy2c3"
      },
      "outputs": [],
      "source": [
        "def train_epoch(loss_function, optimizer, model, loader):\n",
        "    model.train()\n",
        "    total_acc, total_loss = 0, 0\n",
        "    softmax = nn.Softmax(dim=1)\n",
        "    for batch_inputs, batch_labels, batch_lengths in loader:\n",
        "        optimizer.zero_grad()\n",
        "        outputs = model.forward(batch_inputs, batch_lengths)\n",
        "        outputs_probs = softmax(outputs)\n",
        "        loss = loss_function(outputs.to(device), batch_labels.type(torch.LongTensor).to(device))\n",
        "        loss.backward()\n",
        "        optimizer.step()\n",
        "        total_loss += loss.item()*batch_labels.size(0)\n",
        "        total_acc += (torch.argmax(outputs_probs, 1) == batch_labels).float().mean().item()*batch_labels.size(0)\n",
        "        \n",
        "    return total_acc/len(loader.dataset), total_loss/len(loader.dataset)\n",
        "\n",
        "def evaluate_epoch(loss_function, model, loader):\n",
        "    model.eval()\n",
        "    total_acc, total_loss = 0, 0\n",
        "    softmax = nn.Softmax(dim=1)\n",
        "    with torch.no_grad():\n",
        "        for batch_inputs, batch_labels, batch_lengths in loader:\n",
        "            outputs = model.forward(batch_inputs, batch_lengths)\n",
        "            outputs_probs = softmax(outputs)\n",
        "            loss = loss_function(outputs.to(device), batch_labels.type(torch.LongTensor).to(device))\n",
        "            total_loss += loss.item()*batch_labels.size(0)\n",
        "            total_acc += (torch.argmax(outputs_probs, 1) == batch_labels).float().mean().item()*batch_labels.size(0)\n",
        "    return total_acc/len(loader.dataset), total_loss/len(loader.dataset)\n",
        "\n",
        "def train(loss_function, optimizer, model, train_loader, valid_loader, num_epochs=10000, plot=True):\n",
        "    \n",
        "    train_losses, valid_losses = [], []\n",
        "    train_accs, valid_accs = [], []\n",
        "    \n",
        "    for epoch in range(num_epochs):\n",
        "        acc_train, loss_train = train_epoch(loss_function, optimizer, model, train_loader)\n",
        "        acc_valid, loss_valid = evaluate_epoch(loss_function, model, valid_loader)\n",
        "        train_losses.append(loss_train)\n",
        "        valid_losses.append(loss_valid)\n",
        "        train_accs.append(acc_train)\n",
        "        valid_accs.append(acc_valid)\n",
        "        \n",
        "        print(f'Epoch {epoch} accuracy: {acc_train:.4f} loss: {loss_train:.4f} val_accuracy: {acc_valid:.4f}  val_loss: {loss_valid:.4f}')\n",
        "\n",
        "    if(plot == True):\n",
        "        plt.figure(1)\n",
        "        plt.subplot(211)\n",
        "        plt.plot(range(num_epochs), train_losses, label='Loss train')\n",
        "        plt.plot(range(num_epochs), valid_losses, label = 'Loss valid')\n",
        "        plt.legend(loc = \"best\")\n",
        "        plt.subplot(212)\n",
        "        plt.plot(range(num_epochs), train_accs, label='Accuracy train')\n",
        "        plt.plot(range(num_epochs), valid_accs, label = 'Accuracy valid')\n",
        "        plt.legend(loc = \"best\")\n",
        "\n",
        "        plt.show()"
      ],
      "id": "i7K7moXxy2c3"
    },
    {
      "cell_type": "markdown",
      "metadata": {
        "id": "cmzVQxE96SPE"
      },
      "source": [
        "Finalmente, se procede a entrenar el modelo y visualizar sus resultados. Note que el optimizador escogido es el `AdamW` y a la función de pérdida se le pasan como parámetro los pesos calculados anteriormente."
      ],
      "id": "cmzVQxE96SPE"
    },
    {
      "cell_type": "code",
      "execution_count": null,
      "metadata": {
        "colab": {
          "base_uri": "https://localhost:8080/",
          "height": 724
        },
        "id": "5863f0bf",
        "outputId": "39c643a1-f8a0-4ea5-965e-4a4016c6c25a"
      },
      "outputs": [
        {
          "output_type": "stream",
          "name": "stdout",
          "text": [
            "Epoch 0 accuracy: 0.2473 loss: 1.6120 val_accuracy: 0.2917  val_loss: 1.6097\n",
            "Epoch 1 accuracy: 0.2616 loss: 1.6062 val_accuracy: 0.1833  val_loss: 1.6107\n",
            "Epoch 2 accuracy: 0.2366 loss: 1.5989 val_accuracy: 0.1917  val_loss: 1.6096\n",
            "Epoch 3 accuracy: 0.3047 loss: 1.5893 val_accuracy: 0.2333  val_loss: 1.6070\n",
            "Epoch 4 accuracy: 0.4337 loss: 1.5703 val_accuracy: 0.2417  val_loss: 1.6032\n",
            "Epoch 5 accuracy: 0.5090 loss: 1.5291 val_accuracy: 0.2833  val_loss: 1.5959\n",
            "Epoch 6 accuracy: 0.5735 loss: 1.4332 val_accuracy: 0.2917  val_loss: 1.5883\n",
            "Epoch 7 accuracy: 0.5842 loss: 1.2667 val_accuracy: 0.2667  val_loss: 1.6193\n",
            "Epoch 8 accuracy: 0.7097 loss: 1.0391 val_accuracy: 0.2833  val_loss: 1.6751\n",
            "Epoch 9 accuracy: 0.8100 loss: 0.8343 val_accuracy: 0.2250  val_loss: 1.7899\n",
            "Epoch 10 accuracy: 0.8495 loss: 0.6011 val_accuracy: 0.3333  val_loss: 1.8406\n",
            "Epoch 11 accuracy: 0.9247 loss: 0.3889 val_accuracy: 0.2833  val_loss: 2.2406\n",
            "Epoch 12 accuracy: 0.9570 loss: 0.2362 val_accuracy: 0.3167  val_loss: 2.1724\n",
            "Epoch 13 accuracy: 0.9713 loss: 0.1233 val_accuracy: 0.2500  val_loss: 2.6552\n",
            "Epoch 14 accuracy: 0.9928 loss: 0.0657 val_accuracy: 0.2833  val_loss: 2.6041\n",
            "Epoch 15 accuracy: 0.9964 loss: 0.0360 val_accuracy: 0.3167  val_loss: 2.8848\n",
            "Epoch 16 accuracy: 1.0000 loss: 0.0176 val_accuracy: 0.2917  val_loss: 3.3168\n",
            "Epoch 17 accuracy: 1.0000 loss: 0.0135 val_accuracy: 0.3000  val_loss: 3.3522\n",
            "Epoch 18 accuracy: 1.0000 loss: 0.0095 val_accuracy: 0.3250  val_loss: 3.2177\n",
            "Epoch 19 accuracy: 1.0000 loss: 0.0071 val_accuracy: 0.3167  val_loss: 3.1279\n",
            "Epoch 20 accuracy: 1.0000 loss: 0.0063 val_accuracy: 0.3250  val_loss: 3.2230\n",
            "Epoch 21 accuracy: 1.0000 loss: 0.0042 val_accuracy: 0.3167  val_loss: 3.4748\n",
            "Epoch 22 accuracy: 1.0000 loss: 0.0062 val_accuracy: 0.3167  val_loss: 3.3095\n",
            "Epoch 23 accuracy: 0.9964 loss: 0.0104 val_accuracy: 0.2750  val_loss: 3.5241\n",
            "Epoch 24 accuracy: 0.9964 loss: 0.0103 val_accuracy: 0.2917  val_loss: 3.6641\n"
          ]
        },
        {
          "output_type": "display_data",
          "data": {
            "text/plain": [
              "<Figure size 432x288 with 2 Axes>"
            ],
            "image/png": "[encoded data removed]"
          },
          "metadata": {
            "needs_background": "light"
          }
        }
      ],
      "source": [
        "loss_fn = nn.CrossEntropyLoss(weight=torch.tensor(loss_weights, dtype = torch.float).to(device))\n",
        "optimizer = torch.optim.AdamW(model.parameters())\n",
        "\n",
        "train(loss_fn, optimizer, model, train_dl, valid_dl, num_epochs = 25)"
      ],
      "id": "5863f0bf"
    },
    {
      "cell_type": "markdown",
      "source": [
        "El modelo resultante no se comporta de la mejor manera y entra rápidamente en overfitting. Su precisión es de aproximadamente 30%, por lo que se comporta mejor que escoger una clase al azar."
      ],
      "metadata": {
        "id": "UXntOFFABvf9"
      },
      "id": "UXntOFFABvf9"
    },
    {
      "cell_type": "markdown",
      "metadata": {
        "id": "clzGyeqG6bly"
      },
      "source": [
        "Con el fin de optimizar recursos se guarda el modelo previamente computado."
      ],
      "id": "clzGyeqG6bly"
    },
    {
      "cell_type": "code",
      "execution_count": null,
      "metadata": {
        "id": "Yn0CbxWWYdSa"
      },
      "outputs": [],
      "source": [
        "torch.save(model, \"modelo_1\")"
      ],
      "id": "Yn0CbxWWYdSa"
    },
    {
      "cell_type": "markdown",
      "metadata": {
        "id": "bb2edbbd"
      },
      "source": [
        "# **Punto 7 y 8.**\n",
        "\n",
        "Aquí usamos el modelo listo para producción y una pequeña interfaz gráfica de Gradio para utilizar el modelo. Se carga si es necesario o si no se ejecutó el ciclo de entrenamiento."
      ],
      "id": "bb2edbbd"
    },
    {
      "cell_type": "code",
      "source": [
        "model = torch.load(\"modelo_1\")"
      ],
      "metadata": {
        "id": "MMxrE2Q4Cm6r"
      },
      "id": "MMxrE2Q4Cm6r",
      "execution_count": null,
      "outputs": []
    },
    {
      "cell_type": "code",
      "source": [
        "def model_prediction(comment):\n",
        "  dic = {0:\"MUY NEGATIVO\", 1:\"NEGATIVO\", 2:\"NEUTRO\", 3:\"POSITIVO\", 4:\"MUY POSITIVO\"}\n",
        "  softmax = nn.Softmax(dim=1)\n",
        "  test_sentence = clean_text(comment)\n",
        "  test_sentence = text_pipeline(test_sentence) \n",
        "  test_lengths = [len(test_sentence)]\n",
        "  test_lengths = torch.LongTensor(test_lengths).to(device)\n",
        "  test_sentence = torch.LongTensor([test_sentence]).to(device)\n",
        "  outputs = model.forward(test_sentence, test_lengths)\n",
        "  outputs = softmax(outputs)\n",
        "  labels_pred = torch.argmax(outputs, dim=1)\n",
        "  number_label = labels_pred.item()\n",
        "  return dic[number_label]\n"
      ],
      "metadata": {
        "id": "6Vc-4oB4aUE7"
      },
      "id": "6Vc-4oB4aUE7",
      "execution_count": null,
      "outputs": []
    },
    {
      "cell_type": "code",
      "source": [
        "iface = gr.Interface(fn=model_prediction, inputs=\"text\", outputs=\"text\")\n",
        "iface.launch()"
      ],
      "metadata": {
        "colab": {
          "base_uri": "https://localhost:8080/",
          "height": 649
        },
        "id": "v2mv_haccftx",
        "outputId": "94d1f956-af68-4258-c4d8-f4ce3f581ae3"
      },
      "id": "v2mv_haccftx",
      "execution_count": null,
      "outputs": [
        {
          "output_type": "stream",
          "name": "stdout",
          "text": [
            "Colab notebook detected. To show errors in colab notebook, set `debug=True` in `launch()`\n",
            "Running on public URL: https://14350.gradio.app\n",
            "\n",
            "This share link expires in 72 hours. For free permanent hosting, check out Spaces (https://huggingface.co/spaces)\n"
          ]
        },
        {
          "output_type": "display_data",
          "data": {
            "text/plain": [
              "<IPython.lib.display.IFrame at 0x7f28e5b4e450>"
            ],
            "text/html": [
              "\n",
              "        <iframe\n",
              "            width=\"900\"\n",
              "            height=\"500\"\n",
              "            src=\"https://14350.gradio.app\"\n",
              "            frameborder=\"0\"\n",
              "            allowfullscreen\n",
              "        ></iframe>\n",
              "        "
            ]
          },
          "metadata": {}
        },
        {
          "output_type": "execute_result",
          "data": {
            "text/plain": [
              "(<fastapi.applications.FastAPI at 0x7f28e7acc210>,\n",
              " 'http://127.0.0.1:7861/',\n",
              " 'https://14350.gradio.app')"
            ]
          },
          "metadata": {},
          "execution_count": 44
        }
      ]
    },
    {
      "cell_type": "markdown",
      "metadata": {
        "id": "lDesoUqzQvNx"
      },
      "source": [
        "## **Parte 2. Convirtiendo el texto a un problema de clasificación por palabras o frases (NER)**\n",
        "\n",
        "### **Parte 2a. Etiquetado**"
      ],
      "id": "lDesoUqzQvNx"
    },
    {
      "cell_type": "markdown",
      "metadata": {
        "id": "BJzXTMMGYl2x"
      },
      "source": [
        "En primer lugar, se realiza la lectura de los datos. Se etiquetan los comentarios del 50 al 100 y se tomaron 25 comentarios etiquetados por otro compañero."
      ],
      "id": "BJzXTMMGYl2x"
    },
    {
      "cell_type": "code",
      "execution_count": null,
      "metadata": {
        "id": "SwU7mrLNe3fK"
      },
      "outputs": [],
      "source": [
        "from webanno_tsv import *\n",
        "\n",
        "doc = webanno_tsv_read_file('test-nlp.tsv')\n",
        "num_sentences = len(doc.sentences)\n",
        "train_labels = [[] for i in range(num_sentences)]\n",
        "sentences = [[] for i in range(num_sentences)]\n",
        "for annotation in doc.annotations:\n",
        "    label = annotation.label\n",
        "    tokens = annotation.tokens\n",
        "    for token in tokens:\n",
        "        word = token.text\n",
        "        indx = token.sentence_idx-1\n",
        "        train_labels[indx].append(label)\n",
        "        sentences[indx].append(word)"
      ],
      "id": "SwU7mrLNe3fK"
    },
    {
      "cell_type": "code",
      "execution_count": null,
      "metadata": {
        "id": "l6490xNxe6Yy"
      },
      "outputs": [],
      "source": [
        "doc = webanno_tsv_read_file('annotate.tsv')\n",
        "num_sentences = len(doc.sentences)\n",
        "train_labels += [[] for i in range(num_sentences)]\n",
        "sentences += [[] for i in range(num_sentences)]\n",
        "for annotation in doc.annotations:\n",
        "    label = annotation.label\n",
        "    tokens = annotation.tokens\n",
        "    for token in tokens:\n",
        "        word = token.text\n",
        "        indx = token.sentence_idx-1\n",
        "        train_labels[indx].append(label)\n",
        "        sentences[indx].append(word)"
      ],
      "id": "l6490xNxe6Yy"
    },
    {
      "cell_type": "markdown",
      "metadata": {
        "id": "VYyBrxoVYzmg"
      },
      "source": [
        "Se genera un diccionario para asignar un valor numérico a la etiqueta de texto y se crean el listado con las etiquetas de entrenamiento."
      ],
      "id": "VYyBrxoVYzmg"
    },
    {
      "cell_type": "code",
      "execution_count": null,
      "metadata": {
        "id": "-24MaFeweuBk"
      },
      "outputs": [],
      "source": [
        "tag_to_ix = {\"otro\": 0, \"muy negativo\": 1, \"negativo\": 2, \"neutral\": 3, \"positivo\": 4, \"muy positivo\": 5}"
      ],
      "id": "-24MaFeweuBk"
    },
    {
      "cell_type": "code",
      "execution_count": null,
      "metadata": {
        "id": "4zmjx4uyfGwj"
      },
      "outputs": [],
      "source": [
        "train_labels = [[tag_to_ix[label] for label in sentece_labels] for sentece_labels in train_labels]"
      ],
      "id": "4zmjx4uyfGwj"
    },
    {
      "cell_type": "markdown",
      "metadata": {
        "id": "CQKFlmlDY_uc"
      },
      "source": [
        "Ahora, se realiza la partición de los datos en conjuntos de entrenamiento y validación. Esta vez, usamos la función `train_test_split` de la librería `sklearn`. Posteriormente, se define el vocabulario para el modelo y se agregan palabras para *padding* y para palabras desconocidas o *unknown*."
      ],
      "id": "CQKFlmlDY_uc"
    },
    {
      "cell_type": "code",
      "execution_count": null,
      "metadata": {
        "id": "Czn1stgEaLs7"
      },
      "outputs": [],
      "source": [
        "train_sentences, valid_sentences, train_labels, valid_labels = train_test_split(sentences, train_labels, test_size=0.2, random_state=42)"
      ],
      "id": "Czn1stgEaLs7"
    },
    {
      "cell_type": "code",
      "execution_count": null,
      "metadata": {
        "id": "EoGORmospehi"
      },
      "outputs": [],
      "source": [
        "vocabulary = set(w for s in train_sentences for w in s)\n",
        "vocabulary.add(\"<unk>\")\n",
        "vocabulary.add(\"<pad>\") "
      ],
      "id": "EoGORmospehi"
    },
    {
      "cell_type": "code",
      "execution_count": null,
      "metadata": {
        "id": "Xm-kyDgdpehi"
      },
      "outputs": [],
      "source": [
        "ix_to_word = sorted(list(vocabulary))\n",
        "word_to_ix = {word: ind for ind, word in enumerate(ix_to_word)}"
      ],
      "id": "Xm-kyDgdpehi"
    },
    {
      "cell_type": "markdown",
      "metadata": {
        "id": "e6wprYOdZpi6"
      },
      "source": [
        "Se realiza la transformación de texto plano a índices. "
      ],
      "id": "e6wprYOdZpi6"
    },
    {
      "cell_type": "code",
      "execution_count": null,
      "metadata": {
        "id": "uGy20Q-qZGw3"
      },
      "outputs": [],
      "source": [
        "train_sentences = [[word_to_ix.get(s, word_to_ix[\"<unk>\"]) for s in sentence] for sentence in train_sentences]\n",
        "valid_sentences = [[word_to_ix.get(s, word_to_ix[\"<unk>\"]) for s in sentence] for sentence in valid_sentences]"
      ],
      "id": "uGy20Q-qZGw3"
    },
    {
      "cell_type": "markdown",
      "metadata": {
        "id": "h26aIpTKZsa2"
      },
      "source": [
        "Se define la función customizada para manejar cada batch. En este sentido, se realiza el *padding* para el texto y para las etiquetas, para que cada texto dentro del batch tenga la misma longitud."
      ],
      "id": "h26aIpTKZsa2"
    },
    {
      "cell_type": "code",
      "execution_count": null,
      "metadata": {
        "id": "miW_mnA9pehj"
      },
      "outputs": [],
      "source": [
        "def custom_collate_fn(batch, pad_token_ix):\n",
        "    x, y = zip(*batch)\n",
        "\n",
        "    x = [torch.LongTensor(x_i) for x_i in x]\n",
        "    x_padded = nn.utils.rnn.pad_sequence(x, batch_first=True, padding_value=pad_token_ix)\n",
        "\n",
        "    lengths = [len(label) for label in y]\n",
        "    lenghts = torch.LongTensor(lengths)\n",
        "\n",
        "    y = [torch.LongTensor(y_i) for y_i in y]\n",
        "    y_padded = nn.utils.rnn.pad_sequence(y, batch_first=True, padding_value=0)\n",
        "    return x_padded, y_padded, lenghts"
      ],
      "id": "miW_mnA9pehj"
    },
    {
      "cell_type": "markdown",
      "metadata": {
        "id": "sVRklRXTZvXQ"
      },
      "source": [
        "Luego, se procede a crear el modelo. Este recibe la dimensión del embedding, un tamaño de vocabulario, la dimensión oculta de la capa LSTM y el tamaño del conjunto de etiquetas. Además, si recibe un parámetro de *embedding_init*, inicializará la capa de embeddings con los pesos ingresados. La red misma realiza un proceso de `log_softmax` al final."
      ],
      "id": "sVRklRXTZvXQ"
    },
    {
      "cell_type": "code",
      "execution_count": null,
      "metadata": {
        "id": "O1B45g6Cpehj"
      },
      "outputs": [],
      "source": [
        "class LSTMTagger(nn.Module):\n",
        "    \n",
        "    def __init__(self, embedding_dim, vocab_size, hidden_dim, tagset_size, \n",
        "                 embedding_init=None):\n",
        "        super(LSTMTagger, self).__init__()\n",
        "        \n",
        "        if(embedding_init != None):\n",
        "            self.word_embeddings = nn.Embedding.from_pretrained(embedding_init)\n",
        "        else:\n",
        "            self.word_embeddings = nn.Embedding(vocab_size, embedding_dim)\n",
        "        \n",
        "        self.lstm = nn.LSTM(input_size=embedding_dim, hidden_size=hidden_dim,\n",
        "                            num_layers=1, bidirectional=True)\n",
        "\n",
        "        self.hidden2tag = nn.Linear(2*hidden_dim, tagset_size)\n",
        "                \n",
        "    def forward(self, inputs):\n",
        "        embeds = self.word_embeddings(inputs)  \n",
        "        lstm_out, _ = self.lstm(embeds)\n",
        "        tag_space = self.hidden2tag(lstm_out)\n",
        "        tag_scores = F.log_softmax(tag_space, dim=1)\n",
        "        return tag_scores"
      ],
      "id": "O1B45g6Cpehj"
    },
    {
      "cell_type": "markdown",
      "metadata": {
        "id": "882r7rkrZ2ox"
      },
      "source": [
        "Se preparan los datos, se define la función de pérdida y se crean los *loaders* para el entrenamiento y prueba con el fin de evaluar la arquitectura. Aquí, el tamaño de los batches constituye al 60% de los datos de entrenamiento o de validación. Como función de pérdida, se toma como base la `Negative Log Likelihood Loss`."
      ],
      "id": "882r7rkrZ2ox"
    },
    {
      "cell_type": "code",
      "execution_count": null,
      "metadata": {
        "id": "odcBTX-Bpehj"
      },
      "outputs": [],
      "source": [
        "train_batch_size, validation_batch_size = int(len(train_sentences)*0.6), int(len(valid_sentences)*0.6)\n",
        "collate_fn = partial(custom_collate_fn, pad_token_ix=word_to_ix[\"<pad>\"])\n",
        "\n",
        "train_data = list(zip(train_sentences, train_labels))\n",
        "valid_data = list(zip(valid_sentences, valid_labels))\n",
        "\n",
        "train_loader = DataLoader(train_data, batch_size=train_batch_size,\n",
        "                      shuffle=True, collate_fn=collate_fn)\n",
        "valid_loader = DataLoader(valid_data, batch_size=validation_batch_size,\n",
        "                      shuffle=True, collate_fn=collate_fn)\n",
        "\n",
        "def loss_function(batch_outputs, batch_labels, batch_lengths):    \n",
        "    celoss = nn.NLLLoss()\n",
        "    loss = celoss(batch_outputs.permute(0,2,1), batch_labels.type(torch.LongTensor))\n",
        "    loss = loss / batch_lengths.sum().float()\n",
        "    return loss"
      ],
      "id": "odcBTX-Bpehj"
    },
    {
      "cell_type": "markdown",
      "metadata": {
        "id": "1KofMAckMIy2"
      },
      "source": [
        "### **Parte 2b. Clasificación y localización de las frases**"
      ],
      "id": "1KofMAckMIy2"
    },
    {
      "cell_type": "markdown",
      "metadata": {
        "id": "X-KOWMIxZ5OI"
      },
      "source": [
        "Se definen las funciones necesarias para realizar y visualizar el entrenamiento de la forma más apropiada y de forma análoga a la sección anterior."
      ],
      "id": "X-KOWMIxZ5OI"
    },
    {
      "cell_type": "code",
      "execution_count": null,
      "metadata": {
        "id": "deUUlmSgpehk"
      },
      "outputs": [],
      "source": [
        "def train_epoch(loss_function, optimizer, model, loader):\n",
        "    model.train()\n",
        "    total_acc, total_loss = 0, 0\n",
        "    for batch_inputs, batch_labels, batch_lengths in loader:\n",
        "        optimizer.zero_grad()\n",
        "        outputs = model.forward(batch_inputs)\n",
        "        loss = loss_function(outputs, batch_labels, batch_lengths)\n",
        "        loss.backward()\n",
        "        optimizer.step()\n",
        "        total_loss += loss.item()\n",
        "        total_acc += (torch.argmax(outputs, 2) == batch_labels).float().mean().item()*batch_labels.size(0)\n",
        "        \n",
        "    return total_acc/len(loader.dataset), total_loss\n",
        "\n",
        "def evaluate_epoch(loss_function, model, loader):\n",
        "    model.eval()\n",
        "    total_acc, total_loss = 0, 0\n",
        "    with torch.no_grad():\n",
        "        for batch_inputs, batch_labels, batch_lengths in loader:\n",
        "            outputs = model.forward(batch_inputs)\n",
        "            loss = loss_function(outputs, batch_labels, batch_lengths)\n",
        "            total_loss += loss.item()\n",
        "            total_acc += (torch.argmax(outputs, 2) == batch_labels).float().mean().item()*batch_labels.size(0)\n",
        "    return total_acc/len(loader.dataset), total_loss\n",
        "\n",
        "def train(loss_function, optimizer, model, train_loader, valid_loader, num_epochs=10000, plot=True):\n",
        "    \n",
        "    train_losses, valid_losses = [], []\n",
        "    train_accs, valid_accs = [], []\n",
        "    \n",
        "    for epoch in range(num_epochs):\n",
        "        acc_train, loss_train = train_epoch(loss_function, optimizer, model, train_loader)\n",
        "        acc_valid, loss_valid = evaluate_epoch(loss_function, model, valid_loader)\n",
        "        train_losses.append(loss_train)\n",
        "        valid_losses.append(loss_valid)\n",
        "        train_accs.append(acc_train)\n",
        "        valid_accs.append(acc_valid)\n",
        "        \n",
        "        if((epoch+1)%10 == 0 or epoch == 0):\n",
        "            print(f'Epoch {epoch} accuracy: {acc_train:.4f} loss: {loss_train:.4f} val_accuracy: {acc_valid:.4f}  val_loss: {loss_valid:.4f}')\n",
        "\n",
        "    if(plot == True):\n",
        "        plt.figure(1)\n",
        "        plt.subplot(211)\n",
        "        plt.plot(range(num_epochs), train_losses, label='Loss train')\n",
        "        plt.plot(range(num_epochs), valid_losses, label = 'Loss valid')\n",
        "        plt.legend(loc = \"best\")\n",
        "        plt.subplot(212)\n",
        "        plt.plot(range(num_epochs), train_accs, label='Accuracy train')\n",
        "        plt.plot(range(num_epochs), valid_accs, label = 'Accuracy valid')\n",
        "        plt.legend(loc = \"best\")\n",
        "\n",
        "        plt.show()"
      ],
      "id": "deUUlmSgpehk"
    },
    {
      "cell_type": "markdown",
      "metadata": {
        "id": "xXgABqsXZ9mH"
      },
      "source": [
        "#### **Pesos Aleatorios**\n",
        "\n",
        "Se inicializa el modelo con los pesos definidos por defecto. Note que el resultado es bastante satisfactorio, logrando una precisión final del 55%."
      ],
      "id": "xXgABqsXZ9mH"
    },
    {
      "cell_type": "code",
      "execution_count": null,
      "metadata": {
        "colab": {
          "base_uri": "https://localhost:8080/",
          "height": 373
        },
        "id": "mmldwEWVpehk",
        "outputId": "5d59aabf-f869-407f-db30-1825aff2d849"
      },
      "outputs": [
        {
          "name": "stdout",
          "output_type": "stream",
          "text": [
            "Epoch 0 accuracy: 0.3939 loss: 0.0027 val_accuracy: 0.6289  val_loss: 0.0113\n",
            "Epoch 9 accuracy: 0.6680 loss: 0.0028 val_accuracy: 0.5655  val_loss: 0.0126\n",
            "Epoch 19 accuracy: 0.6608 loss: 0.0028 val_accuracy: 0.6832  val_loss: 0.0116\n",
            "Epoch 29 accuracy: 0.6720 loss: 0.0027 val_accuracy: 0.4753  val_loss: 0.0180\n",
            "Epoch 39 accuracy: 0.6754 loss: 0.0027 val_accuracy: 0.6906  val_loss: 0.0113\n",
            "Epoch 49 accuracy: 0.6653 loss: 0.0027 val_accuracy: 0.5520  val_loss: 0.0121\n"
          ]
        },
        {
          "data": {
            "image/png": "[encoded data removed]",
            "text/plain": [
              "<Figure size 432x288 with 2 Axes>"
            ]
          },
          "metadata": {},
          "output_type": "display_data"
        }
      ],
      "source": [
        "embedding_dim = 200\n",
        "lstm = LSTMTagger(embedding_dim=embedding_dim, vocab_size=len(word_to_ix), \n",
        "                  tagset_size=len(tag_to_ix), hidden_dim = 64)\n",
        "\n",
        "optimizer = torch.optim.AdamW(lstm.parameters())\n",
        "train(loss_function, optimizer, lstm, train_loader, valid_loader, num_epochs=50)"
      ],
      "id": "mmldwEWVpehk"
    },
    {
      "cell_type": "markdown",
      "metadata": {
        "id": "E2f75tf0a15p"
      },
      "source": [
        "#### **Pesos del Modelo Anterior**\n",
        "\n",
        "En este caso, se inicializan los pesos del modelo con los parámetros de la sección anterior, para esto se guardó el modelo previamente computado. Dependiendo del entorno de ejecución, es posible que toque cargarlo utilizando el argumento de map_location en la línea de código comentada."
      ],
      "id": "E2f75tf0a15p"
    },
    {
      "cell_type": "code",
      "execution_count": null,
      "metadata": {
        "id": "UtRxkIi5a1uA"
      },
      "outputs": [],
      "source": [
        "model = torch.load(\"modelo_1\")\n",
        "#model = torch.load(\"modelo_1\", map_location=torch.device('cpu'))\n"
      ],
      "id": "UtRxkIi5a1uA"
    },
    {
      "cell_type": "markdown",
      "source": [
        "Comprobamos las dimensiones de los pesos de la capa de embedding de dicho modelo."
      ],
      "metadata": {
        "id": "gRxLpw9kIzwf"
      },
      "id": "gRxLpw9kIzwf"
    },
    {
      "cell_type": "code",
      "execution_count": null,
      "metadata": {
        "colab": {
          "base_uri": "https://localhost:8080/"
        },
        "id": "9E0PLny6b7mz",
        "outputId": "8cf4aee0-89ef-4fbc-fee3-6e35b43c4d2b"
      },
      "outputs": [
        {
          "output_type": "execute_result",
          "data": {
            "text/plain": [
              "torch.Size([5428, 200])"
            ]
          },
          "metadata": {},
          "execution_count": 72
        }
      ],
      "source": [
        "model.embedding.weight.shape"
      ],
      "id": "9E0PLny6b7mz"
    },
    {
      "cell_type": "markdown",
      "metadata": {
        "id": "8bd70bb2"
      },
      "source": [
        "Note que se deben adaptar los diccionarios para que estos se entiendan mutuamente, dado que las palabras de entrenamiento en esta sección tienen índices distintos a los del vocabulario del primer modelo."
      ],
      "id": "8bd70bb2"
    },
    {
      "cell_type": "code",
      "execution_count": null,
      "metadata": {
        "colab": {
          "base_uri": "https://localhost:8080/"
        },
        "id": "fc35d33e",
        "outputId": "3b9bccb3-fc9a-4520-c9f3-8cac26bfb0b2"
      },
      "outputs": [
        {
          "output_type": "execute_result",
          "data": {
            "text/plain": [
              "1533"
            ]
          },
          "metadata": {},
          "execution_count": 73
        }
      ],
      "source": [
        "word_to_ix[\"paper\"]"
      ],
      "id": "fc35d33e"
    },
    {
      "cell_type": "code",
      "execution_count": null,
      "metadata": {
        "colab": {
          "base_uri": "https://localhost:8080/"
        },
        "id": "a249447e",
        "outputId": "772c10f0-6ed1-45dd-aa5f-ee361286628b"
      },
      "outputs": [
        {
          "output_type": "execute_result",
          "data": {
            "text/plain": [
              "59"
            ]
          },
          "metadata": {},
          "execution_count": 74
        }
      ],
      "source": [
        "vocab[\"paper\"]"
      ],
      "id": "a249447e"
    },
    {
      "cell_type": "markdown",
      "metadata": {
        "id": "8db92e21"
      },
      "source": [
        "Esto se puede arreglar de la siguiente forma:"
      ],
      "id": "8db92e21"
    },
    {
      "cell_type": "code",
      "execution_count": null,
      "metadata": {
        "id": "f003c8d6"
      },
      "outputs": [],
      "source": [
        "mt = np.zeros((len(word_to_ix), model.embedding.weight.shape[1]))\n",
        "for word in word_to_ix.keys():\n",
        "    mt[word_to_ix[word], :] = model.embedding.weight[vocab[word], :].cpu().detach().numpy()"
      ],
      "id": "f003c8d6"
    },
    {
      "cell_type": "markdown",
      "source": [
        "Vamos a guardar los pesos del anterior modelo."
      ],
      "metadata": {
        "id": "7K-fL7NSKMhE"
      },
      "id": "7K-fL7NSKMhE"
    },
    {
      "cell_type": "code",
      "execution_count": null,
      "metadata": {
        "id": "12-B-3N3zAJi"
      },
      "outputs": [],
      "source": [
        "torch.save(model.state_dict(), 'weights_only.pth')"
      ],
      "id": "12-B-3N3zAJi"
    },
    {
      "cell_type": "markdown",
      "source": [
        "Para poder usarlos es necesario tener una red con la misma arquitectura, por lo que la definimos de la misma manera."
      ],
      "metadata": {
        "id": "KcjaX3T_Kimd"
      },
      "id": "KcjaX3T_Kimd"
    },
    {
      "cell_type": "code",
      "execution_count": null,
      "metadata": {
        "id": "Qk2F8YzQzdIC"
      },
      "outputs": [],
      "source": [
        "class LSTMTagger_2(nn.Module):\n",
        "    \n",
        "    def __init__(self, embedding_dim, vocab_size, rnn_hidden_size, fc_hidden_size, tagset_size, \n",
        "                 embedding_init=None):\n",
        "        super(LSTMTagger_2, self).__init__()\n",
        "        \n",
        "        if(embedding_init != None):\n",
        "            self.embedding = nn.Embedding.from_pretrained(embedding_init)\n",
        "        else:\n",
        "            self.embedding = nn.Embedding(vocab_size, embedding_dim)\n",
        "        \n",
        "        self.rnn = nn.LSTM(input_size=embedding_dim, hidden_size=rnn_hidden_size,\n",
        "                            num_layers=3, bidirectional=True, batch_first = True,\n",
        "                            dropout = 0.2)\n",
        "\n",
        "        self.fc1 = nn.Linear(rnn_hidden_size*2, fc_hidden_size)\n",
        "        self.rel = nn.ReLU()\n",
        "        self.fc2 = nn.Linear(fc_hidden_size, tagset_size)\n",
        "                \n",
        "    def forward(self, inputs):\n",
        "        embeds = self.embedding(inputs)  \n",
        "        lstm_out, _ = self.rnn(embeds)\n",
        "        out = self.fc1(lstm_out)\n",
        "        out = self.rel(out)\n",
        "        out = self.fc2(out)\n",
        "        tag_scores = F.log_softmax(out, dim=1)\n",
        "        return tag_scores"
      ],
      "id": "Qk2F8YzQzdIC"
    },
    {
      "cell_type": "code",
      "execution_count": null,
      "metadata": {
        "id": "bophiClb0eGP"
      },
      "outputs": [],
      "source": [
        "device = torch.device('cuda:0' if torch.cuda.is_available() else 'cpu')\n",
        "embedding_dim = 200\n",
        "lstm_2 = LSTMTagger_2(embedding_dim = embedding_dim, vocab_size = len(vocab), rnn_hidden_size = 64, fc_hidden_size= 64, tagset_size= 5)"
      ],
      "id": "bophiClb0eGP"
    },
    {
      "cell_type": "markdown",
      "source": [
        "Ahora es necesario cambiar la capa de embedding (por el problema discutido anteriormente) y la última capa lineal, dado que en el primer modelo teníamos 5 clases, pero en este tenemos 6."
      ],
      "metadata": {
        "id": "rXPkXkKOKwEW"
      },
      "id": "rXPkXkKOKwEW"
    },
    {
      "cell_type": "code",
      "execution_count": null,
      "metadata": {
        "colab": {
          "base_uri": "https://localhost:8080/"
        },
        "id": "YvQc3Ag91z59",
        "outputId": "7e878b1d-923d-4453-d05c-6fb2bae0dd59"
      },
      "outputs": [
        {
          "output_type": "execute_result",
          "data": {
            "text/plain": [
              "<All keys matched successfully>"
            ]
          },
          "metadata": {},
          "execution_count": 79
        }
      ],
      "source": [
        "lstm_2.load_state_dict(torch.load(\"weights_only.pth\"))"
      ],
      "id": "YvQc3Ag91z59"
    },
    {
      "cell_type": "code",
      "execution_count": null,
      "metadata": {
        "colab": {
          "base_uri": "https://localhost:8080/"
        },
        "id": "cSkXsRdbAuVF",
        "outputId": "ece2c13c-97a9-4ede-a6b1-a8916194a03f"
      },
      "outputs": [
        {
          "output_type": "execute_result",
          "data": {
            "text/plain": [
              "LSTMTagger_2(\n",
              "  (embedding): Embedding(5428, 200)\n",
              "  (rnn): LSTM(200, 64, num_layers=3, batch_first=True, dropout=0.2, bidirectional=True)\n",
              "  (fc1): Linear(in_features=128, out_features=64, bias=True)\n",
              "  (rel): ReLU()\n",
              "  (fc2): Linear(in_features=64, out_features=5, bias=True)\n",
              ")"
            ]
          },
          "metadata": {},
          "execution_count": 80
        }
      ],
      "source": [
        "lstm_2"
      ],
      "id": "cSkXsRdbAuVF"
    },
    {
      "cell_type": "code",
      "execution_count": null,
      "metadata": {
        "id": "tkh6dNKE5c2U"
      },
      "outputs": [],
      "source": [
        "lstm_2.fc2 = nn.Linear(64,6)"
      ],
      "id": "tkh6dNKE5c2U"
    },
    {
      "cell_type": "code",
      "execution_count": null,
      "metadata": {
        "id": "BOwf-n8nBiVh"
      },
      "outputs": [],
      "source": [
        "lstm_2.embedding = nn.Embedding.from_pretrained(torch.FloatTensor(mt))"
      ],
      "id": "BOwf-n8nBiVh"
    },
    {
      "cell_type": "markdown",
      "source": [
        "Con los cambios realizados creamos los data loaders y procedemos a entrenar. Este modelo se comporta mucho mejor y llega a una precisión del 73%, usando lo aprendido en la red planteada anteriormente."
      ],
      "metadata": {
        "id": "Afr_TjydK9lj"
      },
      "id": "Afr_TjydK9lj"
    },
    {
      "cell_type": "code",
      "execution_count": null,
      "metadata": {
        "colab": {
          "base_uri": "https://localhost:8080/",
          "height": 367
        },
        "id": "w4cKB7u0dVaq",
        "outputId": "bdad3ed0-55ce-445f-a15c-807267cba702"
      },
      "outputs": [
        {
          "output_type": "stream",
          "name": "stdout",
          "text": [
            "Epoch 0 accuracy: 0.0945 loss: 0.0029 val_accuracy: 0.4073  val_loss: 0.0114\n",
            "Epoch 9 accuracy: 0.6255 loss: 0.0027 val_accuracy: 0.6691  val_loss: 0.0118\n",
            "Epoch 19 accuracy: 0.6795 loss: 0.0026 val_accuracy: 0.6787  val_loss: 0.0106\n",
            "Epoch 29 accuracy: 0.6807 loss: 0.0026 val_accuracy: 0.7392  val_loss: 0.0117\n",
            "Epoch 39 accuracy: 0.6953 loss: 0.0032 val_accuracy: 0.8193  val_loss: 0.0121\n",
            "Epoch 49 accuracy: 0.6692 loss: 0.0026 val_accuracy: 0.7232  val_loss: 0.0124\n"
          ]
        },
        {
          "output_type": "display_data",
          "data": {
            "text/plain": [
              "<Figure size 432x288 with 2 Axes>"
            ],
            "image/png": "[encoded data removed]"
          },
          "metadata": {
            "needs_background": "light"
          }
        }
      ],
      "source": [
        "collate_fn = partial(custom_collate_fn, pad_token_ix=word_to_ix[\"<pad>\"])\n",
        "train_loader = DataLoader(train_data, batch_size=train_batch_size,\n",
        "                          shuffle=True, collate_fn=collate_fn)\n",
        "valid_loader = DataLoader(valid_data, batch_size=validation_batch_size,\n",
        "                          shuffle=True, collate_fn=collate_fn)\n",
        "\n",
        "optimizer = torch.optim.AdamW(lstm_2.parameters())\n",
        "train(loss_function, optimizer, lstm_2, train_loader, valid_loader, num_epochs=50)\n"
      ],
      "id": "w4cKB7u0dVaq"
    },
    {
      "cell_type": "markdown",
      "metadata": {
        "id": "3yDHyTb6NVa7"
      },
      "source": [
        "#### **Pesos del Word2vec**\n",
        "\n",
        "Se genera un modelo `Word2vec` con el fin de extraer los pesos para inicializar el programa.\n",
        "\n",
        "**Nota:** En colab el parámetro del `Word2Vec` se llama *size*, en otros medios puede necesitar usar *vector_size*."
      ],
      "id": "3yDHyTb6NVa7"
    },
    {
      "cell_type": "code",
      "execution_count": null,
      "metadata": {
        "id": "U-FcEODygqY9"
      },
      "outputs": [],
      "source": [
        "from gensim.models import Word2Vec"
      ],
      "id": "U-FcEODygqY9"
    },
    {
      "cell_type": "markdown",
      "source": [
        "Este modelo Word2Vec usa CBOW, con una ventana de tamaño 5 y una dimensión de embedding de 200."
      ],
      "metadata": {
        "id": "nNsK-iEsLZFk"
      },
      "id": "nNsK-iEsLZFk"
    },
    {
      "cell_type": "code",
      "execution_count": null,
      "metadata": {
        "colab": {
          "base_uri": "https://localhost:8080/",
          "height": 367
        },
        "id": "aEVI9HJ0pehm",
        "outputId": "b1e87875-8d8c-4cf8-c3a3-565dfc7a51b3"
      },
      "outputs": [
        {
          "output_type": "stream",
          "name": "stdout",
          "text": [
            "Epoch 0 accuracy: 0.1196 loss: 0.0027 val_accuracy: 0.1679  val_loss: 0.0134\n",
            "Epoch 9 accuracy: 0.6271 loss: 0.0029 val_accuracy: 0.6789  val_loss: 0.0114\n",
            "Epoch 19 accuracy: 0.6446 loss: 0.0029 val_accuracy: 0.6488  val_loss: 0.0125\n",
            "Epoch 29 accuracy: 0.6810 loss: 0.0027 val_accuracy: 0.5797  val_loss: 0.0115\n",
            "Epoch 39 accuracy: 0.6814 loss: 0.0031 val_accuracy: 0.5432  val_loss: 0.0110\n",
            "Epoch 49 accuracy: 0.6334 loss: 0.0027 val_accuracy: 0.5828  val_loss: 0.0130\n"
          ]
        },
        {
          "output_type": "display_data",
          "data": {
            "text/plain": [
              "<Figure size 432x288 with 2 Axes>"
            ],
            "image/png": "[encoded data removed]"
          },
          "metadata": {
            "needs_background": "light"
          }
        }
      ],
      "source": [
        "min_count = 0\n",
        "workers = 3 \n",
        "sg = 0 \n",
        "window = 5 \n",
        "sample = 1e-3 \n",
        "embedding_dim = 200\n",
        "\n",
        "wv = Word2Vec(sentences = sentences, min_count=min_count, size=embedding_dim, workers=workers, window=window, sg=sg, sample=sample) \n",
        "more_sentences = [[\"<pad>\", \"<unk>\"]]\n",
        "wv.build_vocab(more_sentences, update = True)\n",
        "wv.train(more_sentences, total_examples=wv.corpus_count, epochs = wv.epochs)\n",
        "\n",
        "lstm = LSTMTagger(embedding_dim=embedding_dim, vocab_size=len(word_to_ix), \n",
        "                  tagset_size=len(tag_to_ix), hidden_dim = 64, embedding_init = torch.FloatTensor(wv.wv.vectors))\n",
        "\n",
        "optimizer = torch.optim.AdamW(lstm.parameters())\n",
        "train(loss_function, optimizer, lstm, train_loader, valid_loader, num_epochs=50)"
      ],
      "id": "aEVI9HJ0pehm"
    },
    {
      "cell_type": "markdown",
      "source": [
        "Esta precisión es mejor que inicializar con pesos aleatorios, llegando a una precisión de 59%, pero peor que inicializar con los pesos del modelo de la primera parte."
      ],
      "metadata": {
        "id": "i5k3pbVuLn0b"
      },
      "id": "i5k3pbVuLn0b"
    },
    {
      "cell_type": "markdown",
      "source": [
        "## **Visualización**\n",
        "\n"
      ],
      "metadata": {
        "id": "dEoxVNYnJZmE"
      },
      "id": "dEoxVNYnJZmE"
    },
    {
      "cell_type": "code",
      "execution_count": null,
      "metadata": {
        "id": "Z2CzKq7zITR-"
      },
      "outputs": [],
      "source": [
        "import spacy\n",
        "from spacy import displacy\n",
        "from IPython.core.display import display, HTML"
      ],
      "id": "Z2CzKq7zITR-"
    },
    {
      "cell_type": "code",
      "execution_count": null,
      "metadata": {
        "id": "XTU0R1PiP33B"
      },
      "outputs": [],
      "source": [
        "comment = \"Este es un excelente articulo, pero puede mejorar\"\n",
        "test_sentence = clean_text(comment)\n",
        "test_sentence = [word_to_ix.get(s, word_to_ix[\"<unk>\"]) for s in test_sentence.split()]\n",
        "test_sentence = torch.LongTensor([test_sentence])\n",
        "outputs = lstm_2.forward(test_sentence)\n",
        "labels_pred = torch.argmax(outputs, dim=2)"
      ],
      "id": "XTU0R1PiP33B"
    },
    {
      "cell_type": "code",
      "source": [
        "def prepare_dict(sentence, labels):\n",
        "  idx_to_tag = {0:\"OTRO\", 1:\"MUY NEGATIVO\", 2:\"NEGATIVO\", 3:\"NEUTRAL\",4: \"POSITIVO\", 5:\"MUY POSITIVO\"}\n",
        "\n",
        "  list_dict = []\n",
        "\n",
        "  cont_s = 0\n",
        "  cont_e = 0\n",
        "  idx = labels[0]\n",
        "  cont_l = 0\n",
        "  while cont_l < len(sentence):\n",
        "      cont_e += len(sentence[cont_l]) + 1\n",
        "      cont_l += 1\n",
        "      if cont_l < len(labels) and labels[cont_l] != idx:\n",
        "        list_dict.append({\"start\":cont_s, \"end\":cont_e, \"label\":idx_to_tag[idx]})\n",
        "        cont_s = cont_e \n",
        "        idx = labels[cont_l]\n",
        "      if len(labels) - cont_l == 1:\n",
        "          cont_e += len(sentence[cont_l])\n",
        "          list_dict.append({\"start\":cont_s, \"end\":cont_e, \"label\":idx_to_tag[idx]})\n",
        "  return list_dict"
      ],
      "metadata": {
        "id": "GKRc7FuPVSMF"
      },
      "execution_count": null,
      "outputs": [],
      "id": "GKRc7FuPVSMF"
    },
    {
      "cell_type": "code",
      "source": [
        "d = prepare_dict(comment.split(), labels_pred[0].tolist())"
      ],
      "metadata": {
        "id": "Jo_G97QRWJ_A"
      },
      "execution_count": null,
      "outputs": [],
      "id": "Jo_G97QRWJ_A"
    },
    {
      "cell_type": "code",
      "source": [
        "ex = [{\"text\": comment, \"ents\":d, \"title\":None}]\n",
        "colors = {'MUY NEGATIVO': \"#E74C3C\", \"NEGATIVO\": \"#E67E22\", \"NEUTRAL\":\"#F1C40F\", \"POSITIVO\":\"#58D68D\", \"MUY POSITIVO\":\"#27AE60\", \"OTRO\":\"#FDFEFE\"}\n",
        "options = {\"ents\": ['OTRO', 'MUY NEGATIVO', 'NEGATIVO', 'NEUTRAL', 'POSITIVO', 'MUY POSITIVO'], \"colors\": colors}\n",
        "\n",
        "html = displacy.render(ex, style=\"ent\", manual=True, options = options)\n",
        "display(HTML(html))"
      ],
      "metadata": {
        "colab": {
          "base_uri": "https://localhost:8080/",
          "height": 52
        },
        "id": "Pd5Re0-mWTOG",
        "outputId": "aa5ad2a3-4148-4586-fcd2-a99ad4b8c770"
      },
      "execution_count": null,
      "outputs": [
        {
          "output_type": "display_data",
          "data": {
            "text/plain": [
              "<IPython.core.display.HTML object>"
            ],
            "text/html": [
              "<div class=\"entities\" style=\"line-height: 2.5; direction: ltr\">\n",
              "<mark class=\"entity\" style=\"background: #FDFEFE; padding: 0.45em 0.6em; margin: 0 0.25em; line-height: 1; border-radius: 0.35em;\">\n",
              "    Este \n",
              "    <span style=\"font-size: 0.8em; font-weight: bold; line-height: 1; border-radius: 0.35em; text-transform: uppercase; vertical-align: middle; margin-left: 0.5rem\">OTRO</span>\n",
              "</mark>\n",
              "\n",
              "<mark class=\"entity\" style=\"background: #F1C40F; padding: 0.45em 0.6em; margin: 0 0.25em; line-height: 1; border-radius: 0.35em;\">\n",
              "    es \n",
              "    <span style=\"font-size: 0.8em; font-weight: bold; line-height: 1; border-radius: 0.35em; text-transform: uppercase; vertical-align: middle; margin-left: 0.5rem\">NEUTRAL</span>\n",
              "</mark>\n",
              "\n",
              "<mark class=\"entity\" style=\"background: #58D68D; padding: 0.45em 0.6em; margin: 0 0.25em; line-height: 1; border-radius: 0.35em;\">\n",
              "    un excelente \n",
              "    <span style=\"font-size: 0.8em; font-weight: bold; line-height: 1; border-radius: 0.35em; text-transform: uppercase; vertical-align: middle; margin-left: 0.5rem\">POSITIVO</span>\n",
              "</mark>\n",
              "\n",
              "<mark class=\"entity\" style=\"background: #27AE60; padding: 0.45em 0.6em; margin: 0 0.25em; line-height: 1; border-radius: 0.35em;\">\n",
              "    articulo, \n",
              "    <span style=\"font-size: 0.8em; font-weight: bold; line-height: 1; border-radius: 0.35em; text-transform: uppercase; vertical-align: middle; margin-left: 0.5rem\">MUY POSITIVO</span>\n",
              "</mark>\n",
              "\n",
              "<mark class=\"entity\" style=\"background: #E74C3C; padding: 0.45em 0.6em; margin: 0 0.25em; line-height: 1; border-radius: 0.35em;\">\n",
              "    pero \n",
              "    <span style=\"font-size: 0.8em; font-weight: bold; line-height: 1; border-radius: 0.35em; text-transform: uppercase; vertical-align: middle; margin-left: 0.5rem\">MUY NEGATIVO</span>\n",
              "</mark>\n",
              "\n",
              "<mark class=\"entity\" style=\"background: #E67E22; padding: 0.45em 0.6em; margin: 0 0.25em; line-height: 1; border-radius: 0.35em;\">\n",
              "    puede mejorar\n",
              "    <span style=\"font-size: 0.8em; font-weight: bold; line-height: 1; border-radius: 0.35em; text-transform: uppercase; vertical-align: middle; margin-left: 0.5rem\">NEGATIVO</span>\n",
              "</mark>\n",
              "</div>"
            ]
          },
          "metadata": {}
        }
      ],
      "id": "Pd5Re0-mWTOG"
    },
    {
      "cell_type": "markdown",
      "metadata": {
        "id": "qjYPpS9KAvjr"
      },
      "source": [
        "# **Sección Teórica**\n",
        "\n",
        "#### **Pregunta 1.**\n",
        "\n",
        "¿Qué diferencias encuentran con un tipo de clasificación respecto al otro?\n",
        "\n",
        "En la primera parte se recibe para la totalidad del texto una sola etiqueta, mientras que en la segunda se posee una etiqueta por cada palabra. Esto ayuda enormemente a la precisión de la red neuronal, debido a que le es más fácil identificar si una palabra representa algo bueno o algo malo del artículo a que si toda la reseña se puede considerar positiva o negativa, algo que incluso un ser humano se puede confundir haciendo. Por ejemplo, la red se puede confundir con una reseña en la que se diga que es un buen artículo para posteriormente listar una serie de problemas que posee, mientras que el autor que le da una calificación positiva. Por otra parte, en ese mismo contexto la red tiene más fácil la tarea en la parte dos, donde etiqueta fragmentos del texto.\n",
        "\n",
        "#### **Pregunta 2.**\n",
        "\n",
        "¿Los pesos de una tarea ayudan a la otra?\n",
        "\n",
        "Los pesos ayudan enormemente a la parte 2. Aunque la precisión del algoritmo con los pesos inicializados de forma aleatoria es buena (mayor del 0.5), esta sube a más de 0.6 con pesos inicializados de Word2Vec, a más de 0.7 con pesos inicializados de la primera parte, aunque el primer modelo no tenía una precisión tan buena. No obstante, esto último también se puede deber a que se aumentó la complejidad de la red en relación con los otros dos casos para poder transferir los pesos de la primera parte a la segunda.\n",
        "\n",
        "#### **Pregunta 3.**\n",
        "\n",
        "¿Es posible analizar o intuir a partir de pesos o activaciones, que parte del texto está ayudando en la parte 1 a clasificar?\n",
        "\n",
        "Sí es posible, aunque en el proyecto no lo llevamos a cabo. Por ejemplo, está la librería asociada `pytorch` llamada `captum`, en donde se pueden utilizar distintos tipos de algoritmos para este fin y ayudar a identificar qué palabras o partes del texto se activan más en la red neuronal para que esta de la clase resultado."
      ],
      "id": "qjYPpS9KAvjr"
    },
    {
      "cell_type": "markdown",
      "metadata": {
        "id": "-gXKH_5qBB9E"
      },
      "source": [
        "# **Conclusiones**\n",
        "\n",
        "Finalmente, podemos destacar las siguientes conclusiones:\n",
        "\n",
        "- Con el fin de obtener resultados apropiados es imperativo realizar el correcto procesamiento previo de los datos, antes de empezar a emplear métodos de clasificación o cualquier algoritmo, dado que los números o caracteres especiales pueden deteriorar el proceso de entrenamiento y terminar con predicciones sin sentido. \n",
        "\n",
        "- En caso de no contar con *dataset* balanceado es muy importante tener en cuenta los pesos que maneja el modelo para cada una de sus clases, esto con el fin de obtener un modelo de predicción que no tenga tendencias hacia ciertas etiquetas. Para evitar esto se asignan los pesos dependiendo de la distribución inicial de los datos.\n",
        "\n",
        "- Debido a la naturaleza de los datos, es necesario realizar el proceso de asignación de etiquetas para cada una de las palabras con el fin de lograr el sistema de clasificación deseado. Además, esta operación influye directamente en el resultado del modelo y su veracidad será solo tan buena como su asignación inicial.\n",
        "\n",
        "- Finalmente, podemos afirmar que el hecho de emplear los pesos del modelo anterior para realizar la clasificación por palabras en la segunda sección otorga un resultado mucho mejor en comparación, esto se debe a que los pesos resultantes del primer modelo ya han pasado por un proceso de entrenamiento, lo cual permite contar con un punto de partida satisfactorio, en lugar de valores aleatorios. "
      ],
      "id": "-gXKH_5qBB9E"
    },
    {
      "cell_type": "markdown",
      "metadata": {
        "id": "k9M1lcYhaWak"
      },
      "source": [
        "<div style=\"text-align: right\"><b> Ana Valentina López Chacón & Isabella Martínez Martínez & Sara Julieth Zuleta Quevedo. </b></div>"
      ],
      "id": "k9M1lcYhaWak"
    }
  ],
  "metadata": {
    "accelerator": "GPU",
    "colab": {
      "collapsed_sections": [],
      "name": "Main.ipynb",
      "provenance": []
    },
    "kernelspec": {
      "display_name": "Python 3 (ipykernel)",
      "language": "python",
      "name": "python3"
    },
    "language_info": {
      "codemirror_mode": {
        "name": "ipython",
        "version": 3
      },
      "file_extension": ".py",
      "mimetype": "text/x-python",
      "name": "python",
      "nbconvert_exporter": "python",
      "pygments_lexer": "ipython3",
      "version": "3.9.7"
    }
  },
  "nbformat": 4,
  "nbformat_minor": 5
}